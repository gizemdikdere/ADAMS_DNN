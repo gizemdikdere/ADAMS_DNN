{
 "cells": [
  {
   "cell_type": "markdown",
   "metadata": {},
   "source": [
    "Team name: Visages Villages\n",
    "\n",
    "Team members: Gizem Dikdere, Özgün Deniz Gezerli"
   ]
  },
  {
   "cell_type": "code",
   "execution_count": 2,
   "metadata": {
    "colab": {},
    "colab_type": "code",
    "id": "NUro4dBM_EUV"
   },
   "outputs": [
    {
     "name": "stderr",
     "output_type": "stream",
     "text": [
      "Using TensorFlow backend.\n"
     ]
    }
   ],
   "source": [
    "import pandas as pd\n",
    "import keras\n",
    "from keras.models import Sequential\n",
    "from keras.layers import Dense,Dropout\n",
    "import numpy as np\n",
    "np.random.seed(7)\n"
   ]
  },
  {
   "cell_type": "code",
   "execution_count": 3,
   "metadata": {
    "colab": {
     "base_uri": "https://localhost:8080/",
     "height": 392
    },
    "colab_type": "code",
    "id": "Fk4cViwD-tyS",
    "outputId": "985c2924-53a7-4928-c0ba-c5c30bbaa962"
   },
   "outputs": [
    {
     "data": {
      "text/html": [
       "<div>\n",
       "<style scoped>\n",
       "    .dataframe tbody tr th:only-of-type {\n",
       "        vertical-align: middle;\n",
       "    }\n",
       "\n",
       "    .dataframe tbody tr th {\n",
       "        vertical-align: top;\n",
       "    }\n",
       "\n",
       "    .dataframe thead th {\n",
       "        text-align: right;\n",
       "    }\n",
       "</style>\n",
       "<table border=\"1\" class=\"dataframe\">\n",
       "  <thead>\n",
       "    <tr style=\"text-align: right;\">\n",
       "      <th></th>\n",
       "      <th>month</th>\n",
       "      <th>Kauf</th>\n",
       "      <th>sessionStartHour</th>\n",
       "      <th>dayOfMonth</th>\n",
       "      <th>weekday</th>\n",
       "      <th>sessionTime</th>\n",
       "      <th>category</th>\n",
       "      <th>pageVisitedBeforeSession</th>\n",
       "      <th>amountBasketSession</th>\n",
       "      <th>totalItemValueBasketSession</th>\n",
       "      <th>...</th>\n",
       "      <th>browserVersion</th>\n",
       "      <th>operatingSystem</th>\n",
       "      <th>operatingSystemVersion</th>\n",
       "      <th>majorCity</th>\n",
       "      <th>screenWidth</th>\n",
       "      <th>screenHeight</th>\n",
       "      <th>windowWidth</th>\n",
       "      <th>windowHeight</th>\n",
       "      <th>tabVisible</th>\n",
       "      <th>visitorKnown</th>\n",
       "    </tr>\n",
       "  </thead>\n",
       "  <tbody>\n",
       "    <tr>\n",
       "      <th>4</th>\n",
       "      <td>8</td>\n",
       "      <td>0</td>\n",
       "      <td>21</td>\n",
       "      <td>1</td>\n",
       "      <td>6</td>\n",
       "      <td>20</td>\n",
       "      <td>overview</td>\n",
       "      <td>0</td>\n",
       "      <td>0.00</td>\n",
       "      <td>0</td>\n",
       "      <td>...</td>\n",
       "      <td>1</td>\n",
       "      <td>Windows 7</td>\n",
       "      <td>1</td>\n",
       "      <td>0</td>\n",
       "      <td>1280</td>\n",
       "      <td>1024</td>\n",
       "      <td>1280</td>\n",
       "      <td>844</td>\n",
       "      <td>1</td>\n",
       "      <td>0</td>\n",
       "    </tr>\n",
       "    <tr>\n",
       "      <th>14</th>\n",
       "      <td>8</td>\n",
       "      <td>0</td>\n",
       "      <td>0</td>\n",
       "      <td>1</td>\n",
       "      <td>6</td>\n",
       "      <td>85</td>\n",
       "      <td>search</td>\n",
       "      <td>1</td>\n",
       "      <td>0.00</td>\n",
       "      <td>0</td>\n",
       "      <td>...</td>\n",
       "      <td>2</td>\n",
       "      <td>Windows 8</td>\n",
       "      <td>1</td>\n",
       "      <td>0</td>\n",
       "      <td>1366</td>\n",
       "      <td>768</td>\n",
       "      <td>1339</td>\n",
       "      <td>634</td>\n",
       "      <td>1</td>\n",
       "      <td>1</td>\n",
       "    </tr>\n",
       "    <tr>\n",
       "      <th>51</th>\n",
       "      <td>8</td>\n",
       "      <td>0</td>\n",
       "      <td>10</td>\n",
       "      <td>1</td>\n",
       "      <td>6</td>\n",
       "      <td>23</td>\n",
       "      <td>overview</td>\n",
       "      <td>0</td>\n",
       "      <td>0.00</td>\n",
       "      <td>0</td>\n",
       "      <td>...</td>\n",
       "      <td>2</td>\n",
       "      <td>Windows 8.1</td>\n",
       "      <td>1</td>\n",
       "      <td>0</td>\n",
       "      <td>1600</td>\n",
       "      <td>900</td>\n",
       "      <td>1600</td>\n",
       "      <td>799</td>\n",
       "      <td>1</td>\n",
       "      <td>1</td>\n",
       "    </tr>\n",
       "    <tr>\n",
       "      <th>60</th>\n",
       "      <td>8</td>\n",
       "      <td>0</td>\n",
       "      <td>8</td>\n",
       "      <td>1</td>\n",
       "      <td>6</td>\n",
       "      <td>162</td>\n",
       "      <td>overview</td>\n",
       "      <td>1</td>\n",
       "      <td>9.95</td>\n",
       "      <td>1</td>\n",
       "      <td>...</td>\n",
       "      <td>2</td>\n",
       "      <td>Windows 7</td>\n",
       "      <td>1</td>\n",
       "      <td>0</td>\n",
       "      <td>1280</td>\n",
       "      <td>1024</td>\n",
       "      <td>1280</td>\n",
       "      <td>891</td>\n",
       "      <td>1</td>\n",
       "      <td>1</td>\n",
       "    </tr>\n",
       "    <tr>\n",
       "      <th>70</th>\n",
       "      <td>8</td>\n",
       "      <td>0</td>\n",
       "      <td>17</td>\n",
       "      <td>1</td>\n",
       "      <td>6</td>\n",
       "      <td>52</td>\n",
       "      <td>product</td>\n",
       "      <td>0</td>\n",
       "      <td>39.90</td>\n",
       "      <td>1</td>\n",
       "      <td>...</td>\n",
       "      <td>2</td>\n",
       "      <td>Windows 7</td>\n",
       "      <td>1</td>\n",
       "      <td>1</td>\n",
       "      <td>1600</td>\n",
       "      <td>900</td>\n",
       "      <td>1600</td>\n",
       "      <td>775</td>\n",
       "      <td>1</td>\n",
       "      <td>1</td>\n",
       "    </tr>\n",
       "    <tr>\n",
       "      <th>97</th>\n",
       "      <td>8</td>\n",
       "      <td>0</td>\n",
       "      <td>22</td>\n",
       "      <td>1</td>\n",
       "      <td>6</td>\n",
       "      <td>374</td>\n",
       "      <td>overview</td>\n",
       "      <td>0</td>\n",
       "      <td>0.00</td>\n",
       "      <td>0</td>\n",
       "      <td>...</td>\n",
       "      <td>2</td>\n",
       "      <td>Windows 7</td>\n",
       "      <td>1</td>\n",
       "      <td>0</td>\n",
       "      <td>1366</td>\n",
       "      <td>768</td>\n",
       "      <td>1366</td>\n",
       "      <td>667</td>\n",
       "      <td>1</td>\n",
       "      <td>1</td>\n",
       "    </tr>\n",
       "    <tr>\n",
       "      <th>102</th>\n",
       "      <td>8</td>\n",
       "      <td>0</td>\n",
       "      <td>8</td>\n",
       "      <td>1</td>\n",
       "      <td>6</td>\n",
       "      <td>69</td>\n",
       "      <td>account</td>\n",
       "      <td>1</td>\n",
       "      <td>0.00</td>\n",
       "      <td>0</td>\n",
       "      <td>...</td>\n",
       "      <td>2</td>\n",
       "      <td>Windows 7</td>\n",
       "      <td>1</td>\n",
       "      <td>1</td>\n",
       "      <td>1280</td>\n",
       "      <td>1024</td>\n",
       "      <td>500</td>\n",
       "      <td>100</td>\n",
       "      <td>0</td>\n",
       "      <td>1</td>\n",
       "    </tr>\n",
       "    <tr>\n",
       "      <th>106</th>\n",
       "      <td>8</td>\n",
       "      <td>0</td>\n",
       "      <td>21</td>\n",
       "      <td>1</td>\n",
       "      <td>6</td>\n",
       "      <td>154</td>\n",
       "      <td>sale</td>\n",
       "      <td>1</td>\n",
       "      <td>0.00</td>\n",
       "      <td>0</td>\n",
       "      <td>...</td>\n",
       "      <td>2</td>\n",
       "      <td>Windows 7</td>\n",
       "      <td>1</td>\n",
       "      <td>0</td>\n",
       "      <td>1366</td>\n",
       "      <td>768</td>\n",
       "      <td>1366</td>\n",
       "      <td>657</td>\n",
       "      <td>1</td>\n",
       "      <td>1</td>\n",
       "    </tr>\n",
       "    <tr>\n",
       "      <th>111</th>\n",
       "      <td>8</td>\n",
       "      <td>0</td>\n",
       "      <td>9</td>\n",
       "      <td>1</td>\n",
       "      <td>6</td>\n",
       "      <td>165</td>\n",
       "      <td>overview</td>\n",
       "      <td>0</td>\n",
       "      <td>0.00</td>\n",
       "      <td>0</td>\n",
       "      <td>...</td>\n",
       "      <td>2</td>\n",
       "      <td>Windows 8.1</td>\n",
       "      <td>1</td>\n",
       "      <td>0</td>\n",
       "      <td>1600</td>\n",
       "      <td>900</td>\n",
       "      <td>1600</td>\n",
       "      <td>775</td>\n",
       "      <td>1</td>\n",
       "      <td>1</td>\n",
       "    </tr>\n",
       "    <tr>\n",
       "      <th>116</th>\n",
       "      <td>8</td>\n",
       "      <td>0</td>\n",
       "      <td>15</td>\n",
       "      <td>1</td>\n",
       "      <td>6</td>\n",
       "      <td>62</td>\n",
       "      <td>sale</td>\n",
       "      <td>1</td>\n",
       "      <td>0.00</td>\n",
       "      <td>0</td>\n",
       "      <td>...</td>\n",
       "      <td>2</td>\n",
       "      <td>Windows 7</td>\n",
       "      <td>1</td>\n",
       "      <td>0</td>\n",
       "      <td>1280</td>\n",
       "      <td>1024</td>\n",
       "      <td>1280</td>\n",
       "      <td>923</td>\n",
       "      <td>1</td>\n",
       "      <td>1</td>\n",
       "    </tr>\n",
       "  </tbody>\n",
       "</table>\n",
       "<p>10 rows × 96 columns</p>\n",
       "</div>"
      ],
      "text/plain": [
       "     month  Kauf  sessionStartHour  dayOfMonth  weekday  sessionTime  \\\n",
       "4        8     0                21           1        6           20   \n",
       "14       8     0                 0           1        6           85   \n",
       "51       8     0                10           1        6           23   \n",
       "60       8     0                 8           1        6          162   \n",
       "70       8     0                17           1        6           52   \n",
       "97       8     0                22           1        6          374   \n",
       "102      8     0                 8           1        6           69   \n",
       "106      8     0                21           1        6          154   \n",
       "111      8     0                 9           1        6          165   \n",
       "116      8     0                15           1        6           62   \n",
       "\n",
       "     category  pageVisitedBeforeSession  amountBasketSession  \\\n",
       "4    overview                         0                 0.00   \n",
       "14     search                         1                 0.00   \n",
       "51   overview                         0                 0.00   \n",
       "60   overview                         1                 9.95   \n",
       "70    product                         0                39.90   \n",
       "97   overview                         0                 0.00   \n",
       "102   account                         1                 0.00   \n",
       "106      sale                         1                 0.00   \n",
       "111  overview                         0                 0.00   \n",
       "116      sale                         1                 0.00   \n",
       "\n",
       "     totalItemValueBasketSession      ...       browserVersion  \\\n",
       "4                              0      ...                    1   \n",
       "14                             0      ...                    2   \n",
       "51                             0      ...                    2   \n",
       "60                             1      ...                    2   \n",
       "70                             1      ...                    2   \n",
       "97                             0      ...                    2   \n",
       "102                            0      ...                    2   \n",
       "106                            0      ...                    2   \n",
       "111                            0      ...                    2   \n",
       "116                            0      ...                    2   \n",
       "\n",
       "     operatingSystem  operatingSystemVersion  majorCity  screenWidth  \\\n",
       "4          Windows 7                       1          0         1280   \n",
       "14         Windows 8                       1          0         1366   \n",
       "51       Windows 8.1                       1          0         1600   \n",
       "60         Windows 7                       1          0         1280   \n",
       "70         Windows 7                       1          1         1600   \n",
       "97         Windows 7                       1          0         1366   \n",
       "102        Windows 7                       1          1         1280   \n",
       "106        Windows 7                       1          0         1366   \n",
       "111      Windows 8.1                       1          0         1600   \n",
       "116        Windows 7                       1          0         1280   \n",
       "\n",
       "     screenHeight  windowWidth  windowHeight  tabVisible  visitorKnown  \n",
       "4            1024         1280           844           1             0  \n",
       "14            768         1339           634           1             1  \n",
       "51            900         1600           799           1             1  \n",
       "60           1024         1280           891           1             1  \n",
       "70            900         1600           775           1             1  \n",
       "97            768         1366           667           1             1  \n",
       "102          1024          500           100           0             1  \n",
       "106           768         1366           657           1             1  \n",
       "111           900         1600           775           1             1  \n",
       "116          1024         1280           923           1             1  \n",
       "\n",
       "[10 rows x 96 columns]"
      ]
     },
     "execution_count": 3,
     "metadata": {},
     "output_type": "execute_result"
    }
   ],
   "source": [
    "data=pd.read_csv('ConversionDataSet.csv', index_col=0, encoding='utf-8')\n",
    "data.head(10)\n",
    "\n"
   ]
  },
  {
   "cell_type": "code",
   "execution_count": 3,
   "metadata": {
    "colab": {
     "base_uri": "https://localhost:8080/",
     "height": 1734
    },
    "colab_type": "code",
    "id": "7iTMedh264H_",
    "outputId": "5c095708-e360-4107-f7d2-e82e5c0ef33b"
   },
   "outputs": [
    {
     "name": "stdout",
     "output_type": "stream",
     "text": [
      "<class 'pandas.core.frame.DataFrame'>\n",
      "Int64Index: 51349 entries, 4 to 585566\n",
      "Data columns (total 96 columns):\n",
      "month                             51349 non-null int64\n",
      "Kauf                              51349 non-null int64\n",
      "sessionStartHour                  51349 non-null int64\n",
      "dayOfMonth                        51349 non-null int64\n",
      "weekday                           51349 non-null int64\n",
      "sessionTime                       51349 non-null int64\n",
      "category                          51349 non-null object\n",
      "pageVisitedBeforeSession          51349 non-null int64\n",
      "amountBasketSession               51349 non-null float64\n",
      "totalItemValueBasketSession       51349 non-null int64\n",
      "sessionProduct                    51349 non-null int64\n",
      "sessionSearch                     51349 non-null int64\n",
      "sessionOverview                   51349 non-null int64\n",
      "sessionSale                       51349 non-null int64\n",
      "sessionCart                       51349 non-null int64\n",
      "percPageProduct                   51349 non-null float64\n",
      "percPageSearch                    51349 non-null float64\n",
      "percPageOverview                  51349 non-null float64\n",
      "percPageSale                      51349 non-null float64\n",
      "percPageCart                      51349 non-null float64\n",
      "countPagesRevisited               51349 non-null int64\n",
      "timeOnPage                        51349 non-null int64\n",
      "checkoutStep                      51349 non-null int64\n",
      "clickEventsSession                51349 non-null int64\n",
      "scrollEventSession                51349 non-null int64\n",
      "tabSwitchSession                  51349 non-null int64\n",
      "clickEventProduct                 51349 non-null float64\n",
      "scrollEventProduct                51349 non-null float64\n",
      "tabSwitchProduct                  51349 non-null float64\n",
      "clickEventSearch                  51349 non-null float64\n",
      "scrollEventSearch                 51349 non-null float64\n",
      "tabSwitchSearch                   51349 non-null float64\n",
      "clickEventOverview                51349 non-null float64\n",
      "scrollEventOverview               51349 non-null float64\n",
      "tabSwitchOverview                 51349 non-null float64\n",
      "clickEventSale                    51349 non-null float64\n",
      "scrollEventSale                   51349 non-null float64\n",
      "tabswitchSale                     51349 non-null float64\n",
      "clickEventCart                    51349 non-null float64\n",
      "scrollEventCart                   51349 non-null float64\n",
      "tabswitchCart                     51349 non-null float64\n",
      "timeSinceAddToBasket              51349 non-null int64\n",
      "timeSpentOnCart                   51349 non-null float64\n",
      "timeSpentOnProduct                51349 non-null float64\n",
      "purchaseRecency                   51349 non-null int64\n",
      "pageProductLV                     51349 non-null int64\n",
      "pageSearchLV                      51349 non-null int64\n",
      "pageOverviewLV                    51349 non-null int64\n",
      "pageSaleLV                        51349 non-null int64\n",
      "pageCartLV                        51349 non-null int64\n",
      "purchaseLV                        51349 non-null int64\n",
      "productBasketLV                   51349 non-null int64\n",
      "exitEqualLanding                  51349 non-null int64\n",
      "visitTimeLV                       51349 non-null int64\n",
      "currentViewCountVsLV              51349 non-null float64\n",
      "currentVisittimeVsLV              51349 non-null float64\n",
      "recencyVisit                      51349 non-null int64\n",
      "countPagesRevisitedLastSession    51349 non-null int64\n",
      "currentPageVisitedLastTime        51349 non-null int64\n",
      "frequencyVisit                    51349 non-null int64\n",
      "totViewCount                      51349 non-null int64\n",
      "totVisitTime                      51349 non-null int64\n",
      "totPurchasesAmount                51349 non-null float64\n",
      "totPurchasesItems                 51349 non-null int64\n",
      "totProduct                        51349 non-null int64\n",
      "totSearch                         51349 non-null int64\n",
      "totOverview                       51349 non-null int64\n",
      "totSale                           51349 non-null int64\n",
      "totCart                           51349 non-null int64\n",
      "totPercPageOverview               51349 non-null float64\n",
      "totPercPageProduct                51349 non-null float64\n",
      "totPercPageSearch                 51349 non-null float64\n",
      "totPercPageSale                   51349 non-null float64\n",
      "totPercPageCart                   51349 non-null float64\n",
      "convertedBefore                   51349 non-null int64\n",
      "hurry                             51349 non-null int64\n",
      "currentViewCountVsPreviousAvg     51349 non-null float64\n",
      "currentVisitLengthVsAvg           51349 non-null float64\n",
      "meanRecencyVisit                  51349 non-null float64\n",
      "pageProductrVisit                 51349 non-null float64\n",
      "pageSearchrVisit                  51349 non-null float64\n",
      "pageOverviewrVisit                51349 non-null float64\n",
      "pageSalerVisit                    51349 non-null float64\n",
      "pageCartrVisit                    51349 non-null float64\n",
      "purchasesrVisit                   51349 non-null float64\n",
      "browser                           51349 non-null object\n",
      "browserVersion                    51349 non-null int64\n",
      "operatingSystem                   51349 non-null object\n",
      "operatingSystemVersion            51349 non-null int64\n",
      "majorCity                         51349 non-null int64\n",
      "screenWidth                       51349 non-null int64\n",
      "screenHeight                      51349 non-null int64\n",
      "windowWidth                       51349 non-null int64\n",
      "windowHeight                      51349 non-null int64\n",
      "tabVisible                        51349 non-null int64\n",
      "visitorKnown                      51349 non-null int64\n",
      "dtypes: float64(40), int64(53), object(3)\n",
      "memory usage: 38.0+ MB\n"
     ]
    }
   ],
   "source": [
    "data.info()"
   ]
  },
  {
   "cell_type": "markdown",
   "metadata": {},
   "source": [
    "Firstly, an overview is created about the dataset by using .info() method. There are 51349 entries and 96 columns. Fortunately, there are not any missing values so dropping or filling is not necessary. In total, there are 40 float, 53 integer and 3 object type features. The features with object type are handled later."
   ]
  },
  {
   "cell_type": "code",
   "execution_count": 4,
   "metadata": {
    "colab": {
     "base_uri": "https://localhost:8080/",
     "height": 34
    },
    "colab_type": "code",
    "id": "ahF8fYJbi9Fa",
    "outputId": "05282bbd-d531-4b68-e8c1-86aeab80a68c"
   },
   "outputs": [
    {
     "data": {
      "text/plain": [
       "(51349, 96)"
      ]
     },
     "execution_count": 4,
     "metadata": {},
     "output_type": "execute_result"
    }
   ],
   "source": [
    "data.shape "
   ]
  },
  {
   "cell_type": "markdown",
   "metadata": {},
   "source": [
    "The data shape is checked. The number of rows is 51349 and the number of columns is 96. There is one (binary) target variable as mentioned in the mini challange task, so there are 95 input variables."
   ]
  },
  {
   "cell_type": "code",
   "execution_count": 4,
   "metadata": {
    "colab": {
     "base_uri": "https://localhost:8080/",
     "height": 118
    },
    "colab_type": "code",
    "id": "xYZkGuDPLpvq",
    "outputId": "0c1a9575-b03a-4e8d-a1a2-8d2e152f08c9"
   },
   "outputs": [
    {
     "name": "stdout",
     "output_type": "stream",
     "text": [
      "0    0.919921\n",
      "1    0.080079\n",
      "Name: Kauf, dtype: float64 \n",
      " 0    47237\n",
      "1     4112\n",
      "Name: Kauf, dtype: int64\n"
     ]
    }
   ],
   "source": [
    "data['Kauf'].value_counts()/len(data.Kauf)  # data imbalance\n",
    "print(data['Kauf'].value_counts()/len(data.Kauf),\"\\n\",data['Kauf'].value_counts())"
   ]
  },
  {
   "cell_type": "markdown",
   "metadata": {},
   "source": [
    "Kauf is the binary target variable. Before setting a deep neural network, it is checked if the data is balanced or not. The percentage of \"1\"s is about 8% and percenatge of \"0\"s is about 92% in the data. Hence, the data is not balanced at all. Data imbalance issue is handled later."
   ]
  },
  {
   "cell_type": "code",
   "execution_count": 5,
   "metadata": {
    "colab": {
     "base_uri": "https://localhost:8080/",
     "height": 244
    },
    "colab_type": "code",
    "id": "RBCVbdmylrtq",
    "outputId": "5857dc17-4406-40f3-c8da-e68df6c811e0"
   },
   "outputs": [
    {
     "data": {
      "text/html": [
       "<div>\n",
       "<style scoped>\n",
       "    .dataframe tbody tr th:only-of-type {\n",
       "        vertical-align: middle;\n",
       "    }\n",
       "\n",
       "    .dataframe tbody tr th {\n",
       "        vertical-align: top;\n",
       "    }\n",
       "\n",
       "    .dataframe thead th {\n",
       "        text-align: right;\n",
       "    }\n",
       "</style>\n",
       "<table border=\"1\" class=\"dataframe\">\n",
       "  <thead>\n",
       "    <tr style=\"text-align: right;\">\n",
       "      <th></th>\n",
       "      <th>month</th>\n",
       "      <th>sessionStartHour</th>\n",
       "      <th>dayOfMonth</th>\n",
       "      <th>weekday</th>\n",
       "      <th>sessionTime</th>\n",
       "      <th>category</th>\n",
       "      <th>pageVisitedBeforeSession</th>\n",
       "      <th>amountBasketSession</th>\n",
       "      <th>totalItemValueBasketSession</th>\n",
       "      <th>sessionProduct</th>\n",
       "      <th>...</th>\n",
       "      <th>browserVersion</th>\n",
       "      <th>operatingSystem</th>\n",
       "      <th>operatingSystemVersion</th>\n",
       "      <th>majorCity</th>\n",
       "      <th>screenWidth</th>\n",
       "      <th>screenHeight</th>\n",
       "      <th>windowWidth</th>\n",
       "      <th>windowHeight</th>\n",
       "      <th>tabVisible</th>\n",
       "      <th>visitorKnown</th>\n",
       "    </tr>\n",
       "  </thead>\n",
       "  <tbody>\n",
       "    <tr>\n",
       "      <th>4</th>\n",
       "      <td>8</td>\n",
       "      <td>21</td>\n",
       "      <td>1</td>\n",
       "      <td>6</td>\n",
       "      <td>20</td>\n",
       "      <td>overview</td>\n",
       "      <td>0</td>\n",
       "      <td>0.00</td>\n",
       "      <td>0</td>\n",
       "      <td>0</td>\n",
       "      <td>...</td>\n",
       "      <td>1</td>\n",
       "      <td>Windows 7</td>\n",
       "      <td>1</td>\n",
       "      <td>0</td>\n",
       "      <td>1280</td>\n",
       "      <td>1024</td>\n",
       "      <td>1280</td>\n",
       "      <td>844</td>\n",
       "      <td>1</td>\n",
       "      <td>0</td>\n",
       "    </tr>\n",
       "    <tr>\n",
       "      <th>14</th>\n",
       "      <td>8</td>\n",
       "      <td>0</td>\n",
       "      <td>1</td>\n",
       "      <td>6</td>\n",
       "      <td>85</td>\n",
       "      <td>search</td>\n",
       "      <td>1</td>\n",
       "      <td>0.00</td>\n",
       "      <td>0</td>\n",
       "      <td>0</td>\n",
       "      <td>...</td>\n",
       "      <td>2</td>\n",
       "      <td>Windows 8</td>\n",
       "      <td>1</td>\n",
       "      <td>0</td>\n",
       "      <td>1366</td>\n",
       "      <td>768</td>\n",
       "      <td>1339</td>\n",
       "      <td>634</td>\n",
       "      <td>1</td>\n",
       "      <td>1</td>\n",
       "    </tr>\n",
       "    <tr>\n",
       "      <th>51</th>\n",
       "      <td>8</td>\n",
       "      <td>10</td>\n",
       "      <td>1</td>\n",
       "      <td>6</td>\n",
       "      <td>23</td>\n",
       "      <td>overview</td>\n",
       "      <td>0</td>\n",
       "      <td>0.00</td>\n",
       "      <td>0</td>\n",
       "      <td>0</td>\n",
       "      <td>...</td>\n",
       "      <td>2</td>\n",
       "      <td>Windows 8.1</td>\n",
       "      <td>1</td>\n",
       "      <td>0</td>\n",
       "      <td>1600</td>\n",
       "      <td>900</td>\n",
       "      <td>1600</td>\n",
       "      <td>799</td>\n",
       "      <td>1</td>\n",
       "      <td>1</td>\n",
       "    </tr>\n",
       "    <tr>\n",
       "      <th>60</th>\n",
       "      <td>8</td>\n",
       "      <td>8</td>\n",
       "      <td>1</td>\n",
       "      <td>6</td>\n",
       "      <td>162</td>\n",
       "      <td>overview</td>\n",
       "      <td>1</td>\n",
       "      <td>9.95</td>\n",
       "      <td>1</td>\n",
       "      <td>1</td>\n",
       "      <td>...</td>\n",
       "      <td>2</td>\n",
       "      <td>Windows 7</td>\n",
       "      <td>1</td>\n",
       "      <td>0</td>\n",
       "      <td>1280</td>\n",
       "      <td>1024</td>\n",
       "      <td>1280</td>\n",
       "      <td>891</td>\n",
       "      <td>1</td>\n",
       "      <td>1</td>\n",
       "    </tr>\n",
       "    <tr>\n",
       "      <th>70</th>\n",
       "      <td>8</td>\n",
       "      <td>17</td>\n",
       "      <td>1</td>\n",
       "      <td>6</td>\n",
       "      <td>52</td>\n",
       "      <td>product</td>\n",
       "      <td>0</td>\n",
       "      <td>39.90</td>\n",
       "      <td>1</td>\n",
       "      <td>1</td>\n",
       "      <td>...</td>\n",
       "      <td>2</td>\n",
       "      <td>Windows 7</td>\n",
       "      <td>1</td>\n",
       "      <td>1</td>\n",
       "      <td>1600</td>\n",
       "      <td>900</td>\n",
       "      <td>1600</td>\n",
       "      <td>775</td>\n",
       "      <td>1</td>\n",
       "      <td>1</td>\n",
       "    </tr>\n",
       "  </tbody>\n",
       "</table>\n",
       "<p>5 rows × 95 columns</p>\n",
       "</div>"
      ],
      "text/plain": [
       "    month  sessionStartHour  dayOfMonth  weekday  sessionTime  category  \\\n",
       "4       8                21           1        6           20  overview   \n",
       "14      8                 0           1        6           85    search   \n",
       "51      8                10           1        6           23  overview   \n",
       "60      8                 8           1        6          162  overview   \n",
       "70      8                17           1        6           52   product   \n",
       "\n",
       "    pageVisitedBeforeSession  amountBasketSession  \\\n",
       "4                          0                 0.00   \n",
       "14                         1                 0.00   \n",
       "51                         0                 0.00   \n",
       "60                         1                 9.95   \n",
       "70                         0                39.90   \n",
       "\n",
       "    totalItemValueBasketSession  sessionProduct      ...       browserVersion  \\\n",
       "4                             0               0      ...                    1   \n",
       "14                            0               0      ...                    2   \n",
       "51                            0               0      ...                    2   \n",
       "60                            1               1      ...                    2   \n",
       "70                            1               1      ...                    2   \n",
       "\n",
       "    operatingSystem  operatingSystemVersion  majorCity  screenWidth  \\\n",
       "4         Windows 7                       1          0         1280   \n",
       "14        Windows 8                       1          0         1366   \n",
       "51      Windows 8.1                       1          0         1600   \n",
       "60        Windows 7                       1          0         1280   \n",
       "70        Windows 7                       1          1         1600   \n",
       "\n",
       "    screenHeight  windowWidth  windowHeight  tabVisible  visitorKnown  \n",
       "4           1024         1280           844           1             0  \n",
       "14           768         1339           634           1             1  \n",
       "51           900         1600           799           1             1  \n",
       "60          1024         1280           891           1             1  \n",
       "70           900         1600           775           1             1  \n",
       "\n",
       "[5 rows x 95 columns]"
      ]
     },
     "execution_count": 5,
     "metadata": {},
     "output_type": "execute_result"
    }
   ],
   "source": [
    "\n",
    "X=data.drop('Kauf', axis=1)\n",
    "X.head()\n",
    "\n"
   ]
  },
  {
   "cell_type": "markdown",
   "metadata": {},
   "source": [
    "The input variables are created as \"X\" by dropping the \"Kauf\" column."
   ]
  },
  {
   "cell_type": "code",
   "execution_count": 6,
   "metadata": {
    "colab": {
     "base_uri": "https://localhost:8080/",
     "height": 168
    },
    "colab_type": "code",
    "id": "BKUrCMvWou62",
    "outputId": "2c6d11e0-ca7d-4c1b-b243-74b955c8db71"
   },
   "outputs": [
    {
     "data": {
      "text/plain": [
       "count    51349.000000\n",
       "mean         0.080079\n",
       "std          0.271419\n",
       "min          0.000000\n",
       "25%          0.000000\n",
       "50%          0.000000\n",
       "75%          0.000000\n",
       "max          1.000000\n",
       "Name: Kauf, dtype: float64"
      ]
     },
     "execution_count": 6,
     "metadata": {},
     "output_type": "execute_result"
    }
   ],
   "source": [
    "\n",
    "X= pd.get_dummies(X, prefix_sep=\"_\",columns=X.select_dtypes(include=[object]).columns).values\n",
    "y=data['Kauf']\n",
    "y.describe()"
   ]
  },
  {
   "cell_type": "markdown",
   "metadata": {},
   "source": [
    "Dummy encoding is used to deal with the object type variables. They are converted into dummy variables by using get_dummies. Then .values is used to convert the dataframe into array. The \"Kauf\" column is stored as target variable, y."
   ]
  },
  {
   "cell_type": "code",
   "execution_count": 7,
   "metadata": {
    "colab": {
     "base_uri": "https://localhost:8080/",
     "height": 1243
    },
    "colab_type": "code",
    "id": "c_ZkUUb036aI",
    "outputId": "70a8823e-9ad6-4415-8f90-e6e38733e83a"
   },
   "outputs": [
    {
     "name": "stdout",
     "output_type": "stream",
     "text": [
      "(35944, 128)\n",
      "(35944,)\n",
      "<class 'numpy.ndarray'>\n",
      "<class 'pandas.core.series.Series'>\n",
      "[[ 9. 23. 21. ...  0.  0.  0.]\n",
      " [ 8. 21.  2. ...  0.  0.  0.]\n",
      " [ 8.  6. 27. ...  0.  0.  0.]\n",
      " ...\n",
      " [ 9. 18. 17. ...  0.  0.  0.]\n",
      " [ 8. 20. 16. ...  0.  0.  0.]\n",
      " [ 9. 20. 29. ...  0.  0.  0.]]\n",
      "486351    0\n",
      "11206     0\n",
      "220623    0\n",
      "429373    0\n",
      "95056     0\n",
      "27925     0\n",
      "21833     0\n",
      "474313    1\n",
      "529040    0\n",
      "451763    0\n",
      "435846    0\n",
      "298237    0\n",
      "277428    0\n",
      "71271     0\n",
      "68838     0\n",
      "560192    0\n",
      "63323     0\n",
      "22379     0\n",
      "547005    0\n",
      "582941    0\n",
      "358443    0\n",
      "490252    0\n",
      "213492    0\n",
      "162650    0\n",
      "218192    0\n",
      "115031    0\n",
      "432062    1\n",
      "580365    1\n",
      "585257    0\n",
      "536570    0\n",
      "         ..\n",
      "541869    1\n",
      "101511    0\n",
      "336260    1\n",
      "516970    0\n",
      "553574    0\n",
      "434869    0\n",
      "519513    0\n",
      "393084    0\n",
      "424407    0\n",
      "300749    0\n",
      "513703    0\n",
      "321233    0\n",
      "41664     0\n",
      "94609     0\n",
      "157728    0\n",
      "273340    0\n",
      "577607    0\n",
      "13281     0\n",
      "448862    0\n",
      "229240    0\n",
      "527318    0\n",
      "317131    0\n",
      "327696    0\n",
      "31414     0\n",
      "395515    0\n",
      "163736    0\n",
      "11188     0\n",
      "444250    0\n",
      "127361    0\n",
      "568113    0\n",
      "Name: Kauf, Length: 35944, dtype: int64\n"
     ]
    }
   ],
   "source": [
    "from sklearn.model_selection import train_test_split\n",
    "seed=7\n",
    "X_train, X_test, y_train, y_test = train_test_split(X, y, test_size=0.30, random_state=seed)\n",
    "    \n",
    "print (X_train.shape)\n",
    "print(y_train.shape) \n",
    "print(type(X_train))\n",
    "print(type(y_train))\n",
    "print(X_train)\n",
    "print(y_train)\n",
    "\n"
   ]
  },
  {
   "cell_type": "markdown",
   "metadata": {},
   "source": [
    "The dataset is seperated into train and test sets by using train_test_split. As test size 0.30 is chosen."
   ]
  },
  {
   "cell_type": "code",
   "execution_count": 8,
   "metadata": {
    "colab": {
     "base_uri": "https://localhost:8080/",
     "height": 34
    },
    "colab_type": "code",
    "id": "0zgoYWCB_Jlz",
    "outputId": "a91b1e02-2034-4ef5-a70f-207a691b7abb"
   },
   "outputs": [
    {
     "name": "stderr",
     "output_type": "stream",
     "text": [
      "C:\\Users\\deniz\\Anaconda3\\lib\\site-packages\\sklearn\\externals\\six.py:31: DeprecationWarning: The module is deprecated in version 0.21 and will be removed in version 0.23 since we've dropped support for Python 2.7. Please rely on the official version of six (https://pypi.org/project/six/).\n",
      "  \"(https://pypi.org/project/six/).\", DeprecationWarning)\n"
     ]
    },
    {
     "name": "stdout",
     "output_type": "stream",
     "text": [
      "[(0, 33071), (1, 33071)]\n"
     ]
    }
   ],
   "source": [
    "from imblearn.over_sampling import SMOTE\n",
    "from collections import Counter\n",
    "X_resampled, y_resampled = SMOTE().fit_resample(X_train, y_train)\n",
    "print(sorted(Counter(y_resampled).items()))"
   ]
  },
  {
   "cell_type": "markdown",
   "metadata": {},
   "source": [
    "Data imbalance problem is solved by SMOTE method which is an oversampling technique. After applying oversampling to the train data, the number of \"1\"s is increased and equalized to the number of \"0\"s.\n",
    "\n"
   ]
  },
  {
   "cell_type": "code",
   "execution_count": 9,
   "metadata": {
    "colab": {
     "base_uri": "https://localhost:8080/",
     "height": 34
    },
    "colab_type": "code",
    "id": "Q-5WgG7QMWhq",
    "outputId": "392f0c90-f20e-422b-e80e-12615b17800f"
   },
   "outputs": [
    {
     "data": {
      "text/plain": [
       "array([0, 0, 0, ..., 1, 1, 1], dtype=int64)"
      ]
     },
     "execution_count": 9,
     "metadata": {},
     "output_type": "execute_result"
    }
   ],
   "source": [
    "y_resampled=np.array(y_resampled)\n",
    "y_resampled\n",
    "\n"
   ]
  },
  {
   "cell_type": "code",
   "execution_count": 9,
   "metadata": {
    "colab": {
     "base_uri": "https://localhost:8080/",
     "height": 34
    },
    "colab_type": "code",
    "id": "-PWab_FFNDFl",
    "outputId": "67898267-37cb-46c5-d514-10b288d5f663"
   },
   "outputs": [
    {
     "name": "stdout",
     "output_type": "stream",
     "text": [
      "<class 'numpy.ndarray'> <class 'numpy.ndarray'>\n"
     ]
    }
   ],
   "source": [
    "print(type(X_resampled),type(X_test))"
   ]
  },
  {
   "cell_type": "code",
   "execution_count": 10,
   "metadata": {
    "colab": {
     "base_uri": "https://localhost:8080/",
     "height": 34
    },
    "colab_type": "code",
    "id": "-U1UV1KJMpwU",
    "outputId": "a7e47df3-2e91-4f6f-a39e-bc70caea6738"
   },
   "outputs": [
    {
     "data": {
      "text/plain": [
       "array([0, 0, 0, ..., 0, 0, 0], dtype=int64)"
      ]
     },
     "execution_count": 10,
     "metadata": {},
     "output_type": "execute_result"
    }
   ],
   "source": [
    "\n",
    "y_test=np.array(y_test)\n",
    "y_test\n"
   ]
  },
  {
   "cell_type": "code",
   "execution_count": 11,
   "metadata": {
    "colab": {
     "base_uri": "https://localhost:8080/",
     "height": 235
    },
    "colab_type": "code",
    "id": "ZKQCHi7ZNTr_",
    "outputId": "f72c7833-75bc-4449-94a5-44dfb0658034"
   },
   "outputs": [
    {
     "data": {
      "text/plain": [
       "array([[ 0.90450412,  1.81114007,  0.62014982, ..., -0.05638768,\n",
       "        -0.23838277, -0.20528374],\n",
       "       [-1.2660938 ,  1.3708884 , -1.68013335, ..., -0.05638768,\n",
       "        -0.23838277, -0.20528374],\n",
       "       [-1.2660938 , -1.93099913,  1.34655503, ..., -0.05638768,\n",
       "        -0.23838277, -0.20528374],\n",
       "       ...,\n",
       "       [-1.2660938 ,  1.40641381,  0.33108564, ..., -0.05638768,\n",
       "        -0.23838277, -0.20528374],\n",
       "       [ 0.90450412,  0.82003291, -0.28696422, ..., -0.05638768,\n",
       "        -0.23838277, -0.20528374],\n",
       "       [ 0.90450412, -1.51714669, -0.60013236, ..., -0.05638768,\n",
       "        -0.23838277, -0.20528374]])"
      ]
     },
     "execution_count": 11,
     "metadata": {},
     "output_type": "execute_result"
    }
   ],
   "source": [
    "from sklearn.preprocessing import StandardScaler\n",
    "scaler = StandardScaler().fit(X_resampled)\n",
    "X_resampled= scaler.transform(X_resampled)\n",
    "X_test= scaler.transform(X_test)  \n",
    "X_resampled"
   ]
  },
  {
   "cell_type": "markdown",
   "metadata": {},
   "source": [
    "The train values of input variables are standardized to prevent one variable to dominate the others. With the standardization, the data is normally distributed with zero mean and unit variance. Additionaly, the train input values are used to prevent leakage of data to the test set."
   ]
  },
  {
   "cell_type": "code",
   "execution_count": 12,
   "metadata": {
    "colab": {
     "base_uri": "https://localhost:8080/",
     "height": 34
    },
    "colab_type": "code",
    "id": "AuM9PMmDpv0n",
    "outputId": "fe6e79f0-27ce-4bdd-aaad-791e2fc11956"
   },
   "outputs": [
    {
     "name": "stdout",
     "output_type": "stream",
     "text": [
      "(128,)\n"
     ]
    }
   ],
   "source": [
    "n_cols=X_resampled[42].shape\n",
    "print(n_cols)\n",
    "X_train=X_resampled\n",
    "y_train=y_resampled"
   ]
  },
  {
   "cell_type": "markdown",
   "metadata": {},
   "source": [
    "The input shape is checked before setting the model."
   ]
  },
  {
   "cell_type": "code",
   "execution_count": null,
   "metadata": {
    "colab": {},
    "colab_type": "code",
    "id": "pLxOpU0Fmk5-"
   },
   "outputs": [],
   "source": [
    "\n",
    "def network(x_train,y_train,x_test,y_test,params):\n",
    "  model=Sequential()\n",
    "  model.add(Dense(128, activation='relu', kernel_initializer=keras.initializers.he_normal(seed=seed), bias_initializer='zeros',input_shape=n_cols ))\n",
    "  model.add(Dropout(params['dropout']))\n",
    "  model.add(Dense(128, activation='relu', kernel_initializer=keras.initializers.he_normal(seed=seed), bias_initializer='zeros'))\n",
    "  model.add(Dropout(params['dropout']))\n",
    "  #model.add(Dense(8, activation='relu'))\n",
    "  model.add(Dense(1, activation='sigmoid'))\n",
    "  #my_optimizer = SGD(lr=0.02)\n",
    "  model.compile(optimizer=params['optimizer'](lr=lr_normalizer(params['lr'],params['optimizer'])), loss='binary_crossentropy', metrics=['accuracy'])\n",
    "  history = model.fit(x_train, y_train, \n",
    "                        validation_data=[x_test, y_test],\n",
    "                        batch_size=params['batch_size'],\n",
    "                        epochs=params['epochs'],\n",
    "                        verbose=0)\n",
    "  return history,model\n",
    " \n",
    "\n"
   ]
  },
  {
   "cell_type": "markdown",
   "metadata": {},
   "source": [
    "In order to build a deep neural network (DNN) Keras library is imported. A DNN is defined inside the network function. The function gets parameters, train data, and test data as inputs and gives the model and the fitted version of the model as outputs. The number of layers and the number of units are set to 2 and 128, respectively. Relu is used as activation function in all layers except output layer. Since this is a binary classification problem, sigmoid is used as activation function in the output layer and loss is determined as binary crossentropy. Moreover, metrics is set to accuracy."
   ]
  },
  {
   "cell_type": "code",
   "execution_count": 14,
   "metadata": {
    "colab": {
     "base_uri": "https://localhost:8080/",
     "height": 101
    },
    "colab_type": "code",
    "id": "TiIjzrforh6m",
    "outputId": "9b8557ce-84ec-4c28-9474-d7e89e7d7945"
   },
   "outputs": [
    {
     "name": "stderr",
     "output_type": "stream",
     "text": [
      "  0%|          | 0/336 [00:00<?, ?it/s]"
     ]
    },
    {
     "name": "stdout",
     "output_type": "stream",
     "text": [
      "WARNING:tensorflow:From C:\\Users\\deniz\\Anaconda3\\lib\\site-packages\\tensorflow\\python\\framework\\op_def_library.py:263: colocate_with (from tensorflow.python.framework.ops) is deprecated and will be removed in a future version.\n",
      "Instructions for updating:\n",
      "Colocations handled automatically by placer.\n",
      "WARNING:tensorflow:From C:\\Users\\deniz\\Anaconda3\\lib\\site-packages\\tensorflow\\python\\ops\\math_ops.py:3066: to_int32 (from tensorflow.python.ops.math_ops) is deprecated and will be removed in a future version.\n",
      "Instructions for updating:\n",
      "Use tf.cast instead.\n"
     ]
    },
    {
     "name": "stderr",
     "output_type": "stream",
     "text": [
      "100%|██████████| 336/336 [9:54:08<00:00, 72.16s/it]\n"
     ]
    }
   ],
   "source": [
    "\n",
    "import talos as ta\n",
    "from talos.model.normalizers import lr_normalizer\n",
    "from keras.optimizers import SGD, RMSprop, Adagrad, Adadelta, Adam, Adamax, Nadam\n",
    "p = {'lr': (0.001, 0.01, 0.02,0.1,0.5),\n",
    "     'batch_size': (16, 32, 64,128),\n",
    "     'epochs': [10,30,60],\n",
    "     'dropout': (0, 0.1, 0.2),\n",
    "     'optimizer': [SGD, RMSprop, Adagrad, Adadelta, Adam, Adamax, Nadam]}\n",
    "t = ta.Scan(x=X_train,\n",
    "            y=y_train,\n",
    "            model=network,\n",
    "            grid_downsample=None, \n",
    "            params=p,\n",
    "            dataset_name='sigmoid',\n",
    "            x_val=X_test,\n",
    "            y_val=y_test,\n",
    "            experiment_no='1')"
   ]
  },
  {
   "cell_type": "markdown",
   "metadata": {},
   "source": [
    "Talos library is used to find the best performing hyperparameters. Since it takes too much time to run the code, 5 hyperparameters are selected for tuning. These parameters are learning rate, number of epochs, batch size, dropout rate, and optimizer."
   ]
  },
  {
   "cell_type": "code",
   "execution_count": 16,
   "metadata": {
    "colab": {
     "base_uri": "https://localhost:8080/",
     "height": 530
    },
    "colab_type": "code",
    "id": "Rwu1q1ir2CMG",
    "outputId": "2bb0025c-be17-425e-ddc7-b14c2db3833f"
   },
   "outputs": [
    {
     "name": "stdout",
     "output_type": "stream",
     "text": [
      "[[210 25 0.0 0.001 \"<class 'keras.optimizers.SGD'>\" 60 0]\n",
      " [308 23 0.0 0.001 \"<class 'keras.optimizers.Adadelta'>\" 60 1]\n",
      " [266 29 0.0 0.001 \"<class 'keras.optimizers.SGD'>\" 10 2]\n",
      " [23 28 0.0 0.001 \"<class 'keras.optimizers.SGD'>\" 60 3]\n",
      " [36 26 0.0 0.001 \"<class 'keras.optimizers.Adamax'>\" 30 4]\n",
      " [326 20 0.0 0.001 \"<class 'keras.optimizers.RMSprop'>\" 30 5]\n",
      " [38 30 0.0 0.001 \"<class 'keras.optimizers.RMSprop'>\" 10 6]\n",
      " [86 21 0.0 0.001 \"<class 'keras.optimizers.Nadam'>\" 60 7]\n",
      " [135 16 0.0 0.001 \"<class 'keras.optimizers.Nadam'>\" 60 8]\n",
      " [25 17 0.0 0.001 \"<class 'keras.optimizers.Adam'>\" 60 9]] 0.905809797914877\n",
      "     NaN  batch_size  dropout     lr   val_acc  \\\n",
      "210  210          25      0.0  0.001  0.905810   \n",
      "308  308          23      0.0  0.001  0.867121   \n",
      "266  266          29      0.0  0.001  0.861279   \n",
      "23    23          28      0.0  0.001  0.827069   \n",
      "36    36          26      0.0  0.001  0.823629   \n",
      "326  326          20      0.0  0.001  0.823564   \n",
      "38    38          30      0.0  0.001  0.819669   \n",
      "86    86          21      0.0  0.001  0.818630   \n",
      "135  135          16      0.0  0.001  0.816423   \n",
      "25    25          17      0.0  0.001  0.815709   \n",
      "331  331          18      0.0  0.001  0.815450   \n",
      "180  180          27      0.0  0.001  0.815320   \n",
      "91    91          23      0.0  0.001  0.814800   \n",
      "171  171          25      0.0  0.001  0.814606   \n",
      "238  238          30      0.0  0.001  0.814606   \n",
      "295  295          26      0.0  0.001  0.814346   \n",
      "60    60          23      0.0  0.001  0.814346   \n",
      "189  189          24      0.0  0.001  0.814151   \n",
      "29    29          27      0.0  0.001  0.814086   \n",
      "152  152          29      0.0  0.001  0.814086   \n",
      "59    59          27      0.0  0.001  0.813827   \n",
      "324  324          18      0.0  0.001  0.813827   \n",
      "231  231          26      0.0  0.001  0.813762   \n",
      "293  293          31      0.0  0.001  0.813567   \n",
      "201  201          17      0.0  0.001  0.813113   \n",
      "76    76          30      0.0  0.001  0.812788   \n",
      "43    43          22      0.0  0.001  0.812658   \n",
      "157  157          20      0.0  0.001  0.812334   \n",
      "319  319          21      0.0  0.001  0.812269   \n",
      "102  102          16      0.0  0.001  0.812009   \n",
      "..   ...         ...      ...    ...       ...   \n",
      "100  100          16      0.0  0.001  0.642713   \n",
      "127  127          24      0.0  0.001  0.640766   \n",
      "242  242          26      0.0  0.001  0.630185   \n",
      "164  164          23      0.0  0.001  0.627848   \n",
      "6      6          19      0.0  0.001  0.626160   \n",
      "172  172          30      0.0  0.001  0.624148   \n",
      "35    35          22      0.0  0.001  0.614216   \n",
      "302  302          20      0.0  0.001  0.611490   \n",
      "111  111          27      0.0  0.001  0.611295   \n",
      "190  190          28      0.0  0.001  0.605323   \n",
      "62    62          25      0.0  0.001  0.598182   \n",
      "317  317          26      0.0  0.001  0.597014   \n",
      "161  161          31      0.0  0.001  0.592600   \n",
      "92    92          24      0.0  0.001  0.589094   \n",
      "270  270          28      0.0  0.001  0.584486   \n",
      "322  322          18      0.0  0.001  0.582928   \n",
      "3      3          22      0.0  0.001  0.582798   \n",
      "10    10          25      0.0  0.001  0.569815   \n",
      "65    65          25      0.0  0.001  0.557806   \n",
      "299  299          21      0.0  0.001  0.555794   \n",
      "250  250          27      0.0  0.001  0.541512   \n",
      "74    74          29      0.0  0.001  0.526647   \n",
      "73    73          31      0.0  0.001  0.505290   \n",
      "45    45          19      0.0  0.001  0.505031   \n",
      "220  220          26      0.0  0.001  0.474262   \n",
      "71    71          30      0.0  0.001  0.468549   \n",
      "124  124          20      0.0  0.001  0.463810   \n",
      "218  218          27      0.0  0.001  0.436092   \n",
      "99    99          23      0.0  0.001  0.368257   \n",
      "66    66          17      0.0  0.001  0.357222   \n",
      "\n",
      "                               optimizer  epochs  \n",
      "210       <class 'keras.optimizers.SGD'>      60  \n",
      "308  <class 'keras.optimizers.Adadelta'>      60  \n",
      "266       <class 'keras.optimizers.SGD'>      10  \n",
      "23        <class 'keras.optimizers.SGD'>      60  \n",
      "36     <class 'keras.optimizers.Adamax'>      30  \n",
      "326   <class 'keras.optimizers.RMSprop'>      30  \n",
      "38    <class 'keras.optimizers.RMSprop'>      10  \n",
      "86      <class 'keras.optimizers.Nadam'>      60  \n",
      "135     <class 'keras.optimizers.Nadam'>      60  \n",
      "25       <class 'keras.optimizers.Adam'>      60  \n",
      "331     <class 'keras.optimizers.Nadam'>      30  \n",
      "180     <class 'keras.optimizers.Nadam'>      60  \n",
      "91    <class 'keras.optimizers.RMSprop'>      60  \n",
      "171     <class 'keras.optimizers.Nadam'>      30  \n",
      "238     <class 'keras.optimizers.Nadam'>      60  \n",
      "295     <class 'keras.optimizers.Nadam'>      60  \n",
      "60      <class 'keras.optimizers.Nadam'>      60  \n",
      "189     <class 'keras.optimizers.Nadam'>      30  \n",
      "29      <class 'keras.optimizers.Nadam'>      30  \n",
      "152     <class 'keras.optimizers.Nadam'>      60  \n",
      "59       <class 'keras.optimizers.Adam'>      60  \n",
      "324     <class 'keras.optimizers.Nadam'>      60  \n",
      "231      <class 'keras.optimizers.Adam'>      60  \n",
      "293     <class 'keras.optimizers.Nadam'>      30  \n",
      "201     <class 'keras.optimizers.Nadam'>      30  \n",
      "76      <class 'keras.optimizers.Nadam'>      30  \n",
      "43    <class 'keras.optimizers.RMSprop'>      60  \n",
      "157      <class 'keras.optimizers.Adam'>      60  \n",
      "319      <class 'keras.optimizers.Adam'>      60  \n",
      "102     <class 'keras.optimizers.Nadam'>      30  \n",
      "..                                   ...     ...  \n",
      "100   <class 'keras.optimizers.Adagrad'>      30  \n",
      "127       <class 'keras.optimizers.SGD'>      10  \n",
      "242   <class 'keras.optimizers.Adagrad'>      10  \n",
      "164   <class 'keras.optimizers.Adagrad'>      60  \n",
      "6     <class 'keras.optimizers.Adagrad'>      60  \n",
      "172   <class 'keras.optimizers.Adagrad'>      30  \n",
      "35    <class 'keras.optimizers.Adagrad'>      30  \n",
      "302       <class 'keras.optimizers.SGD'>      10  \n",
      "111   <class 'keras.optimizers.Adagrad'>      60  \n",
      "190       <class 'keras.optimizers.SGD'>      10  \n",
      "62        <class 'keras.optimizers.SGD'>      10  \n",
      "317       <class 'keras.optimizers.SGD'>      10  \n",
      "161   <class 'keras.optimizers.Adagrad'>      10  \n",
      "92    <class 'keras.optimizers.Adagrad'>      30  \n",
      "270   <class 'keras.optimizers.Adagrad'>      30  \n",
      "322   <class 'keras.optimizers.Adagrad'>      10  \n",
      "3     <class 'keras.optimizers.Adagrad'>      60  \n",
      "10    <class 'keras.optimizers.Adagrad'>      30  \n",
      "65    <class 'keras.optimizers.Adagrad'>      10  \n",
      "299   <class 'keras.optimizers.Adagrad'>      10  \n",
      "250   <class 'keras.optimizers.Adagrad'>      10  \n",
      "74    <class 'keras.optimizers.Adagrad'>      30  \n",
      "73    <class 'keras.optimizers.Adagrad'>      30  \n",
      "45    <class 'keras.optimizers.Adagrad'>      30  \n",
      "220   <class 'keras.optimizers.Adagrad'>      30  \n",
      "71    <class 'keras.optimizers.Adagrad'>      10  \n",
      "124   <class 'keras.optimizers.Adagrad'>      10  \n",
      "218   <class 'keras.optimizers.Adagrad'>      30  \n",
      "99    <class 'keras.optimizers.Adagrad'>      10  \n",
      "66    <class 'keras.optimizers.Adagrad'>      10  \n",
      "\n",
      "[336 rows x 7 columns] \n",
      " \n",
      "\n"
     ]
    },
    {
     "data": {
      "image/png": "[encoded data removed]",
      "text/plain": [
       "<Figure size 864x475.2 with 1 Axes>"
      ]
     },
     "metadata": {},
     "output_type": "display_data"
    }
   ],
   "source": [
    "r = ta.Reporting(t)\n",
    "best=r.best_params()\n",
    "highest=r.high('val_acc')\n",
    "print(best,highest)\n",
    "r.plot_line()\n",
    "pd.set_option('display.max_columns', 500)\n",
    "\n",
    "print(r.table(),'\\n','\\n')"
   ]
  },
  {
   "cell_type": "markdown",
   "metadata": {},
   "source": [
    "Best performing parameters are stored in the best variable. In order to compare all of the models created, table is printed. The models are sorted according to their validation accuracy in this table. Additionally, a line plot is printed to see the performance of the models clearly. Vertical axis shows validation accuracy and horizontal axis shows the id of the models in this plot. The best performing model is 210th one and has SGD as optimizer, 25 for batch size, 0.001 for learning rate, 0.0 for dropout rate, and 60 epochs. The validation accuracy of the best model is 0.905809797914877."
   ]
  },
  {
   "cell_type": "code",
   "execution_count": 13,
   "metadata": {
    "colab": {},
    "colab_type": "code",
    "id": "4ZW75_q0skQg"
   },
   "outputs": [],
   "source": [
    "from keras.callbacks import EarlyStopping\n",
    "early_stopping_monitor=EarlyStopping(patience=20)\n"
   ]
  },
  {
   "cell_type": "markdown",
   "metadata": {},
   "source": [
    "Early stopping is used during the tuning process but it is not used in the finalized models."
   ]
  },
  {
   "cell_type": "code",
   "execution_count": 130,
   "metadata": {},
   "outputs": [
    {
     "name": "stdout",
     "output_type": "stream",
     "text": [
      "Train on 66142 samples, validate on 15405 samples\n",
      "Epoch 1/60\n",
      "66142/66142 [==============================] - 3s 45us/step - loss: 0.6599 - acc: 0.6251 - val_loss: 0.5702 - val_acc: 0.7686\n",
      "Epoch 2/60\n",
      "66142/66142 [==============================] - 2s 34us/step - loss: 0.5948 - acc: 0.6770 - val_loss: 0.5488 - val_acc: 0.7902\n",
      "Epoch 3/60\n",
      "66142/66142 [==============================] - 2s 36us/step - loss: 0.5733 - acc: 0.6968 - val_loss: 0.5424 - val_acc: 0.7942\n",
      "Epoch 4/60\n",
      "66142/66142 [==============================] - 2s 35us/step - loss: 0.5594 - acc: 0.7097 - val_loss: 0.5228 - val_acc: 0.8078\n",
      "Epoch 5/60\n",
      "66142/66142 [==============================] - 2s 33us/step - loss: 0.5487 - acc: 0.7193 - val_loss: 0.5326 - val_acc: 0.7988\n",
      "Epoch 6/60\n",
      "66142/66142 [==============================] - 2s 34us/step - loss: 0.5394 - acc: 0.7269 - val_loss: 0.5099 - val_acc: 0.8127\n",
      "Epoch 7/60\n",
      "66142/66142 [==============================] - 2s 33us/step - loss: 0.5312 - acc: 0.7344 - val_loss: 0.5169 - val_acc: 0.8053\n",
      "Epoch 8/60\n",
      "66142/66142 [==============================] - 4s 56us/step - loss: 0.5236 - acc: 0.7411 - val_loss: 0.5140 - val_acc: 0.8049\n",
      "Epoch 9/60\n",
      "66142/66142 [==============================] - 3s 49us/step - loss: 0.5164 - acc: 0.7476 - val_loss: 0.5044 - val_acc: 0.8080\n",
      "Epoch 10/60\n",
      "66142/66142 [==============================] - 3s 42us/step - loss: 0.5095 - acc: 0.7538 - val_loss: 0.4978 - val_acc: 0.8103\n",
      "Epoch 11/60\n",
      "66142/66142 [==============================] - 3s 49us/step - loss: 0.5028 - acc: 0.7598 - val_loss: 0.5031 - val_acc: 0.8038\n",
      "Epoch 12/60\n",
      "66142/66142 [==============================] - 3s 49us/step - loss: 0.4964 - acc: 0.7645 - val_loss: 0.4882 - val_acc: 0.8116\n",
      "Epoch 13/60\n",
      "66142/66142 [==============================] - 3s 43us/step - loss: 0.4902 - acc: 0.7690 - val_loss: 0.4888 - val_acc: 0.8076\n",
      "Epoch 14/60\n",
      "66142/66142 [==============================] - 3s 38us/step - loss: 0.4840 - acc: 0.7734 - val_loss: 0.4957 - val_acc: 0.7999\n",
      "Epoch 15/60\n",
      "66142/66142 [==============================] - 3s 39us/step - loss: 0.4779 - acc: 0.7774 - val_loss: 0.4991 - val_acc: 0.7962\n",
      "Epoch 16/60\n",
      "66142/66142 [==============================] - 3s 41us/step - loss: 0.4719 - acc: 0.7816 - val_loss: 0.4959 - val_acc: 0.7957\n",
      "Epoch 17/60\n",
      "66142/66142 [==============================] - 3s 38us/step - loss: 0.4660 - acc: 0.7859 - val_loss: 0.4548 - val_acc: 0.8235\n",
      "Epoch 18/60\n",
      "66142/66142 [==============================] - 3s 42us/step - loss: 0.4601 - acc: 0.7894 - val_loss: 0.4716 - val_acc: 0.8093\n",
      "Epoch 19/60\n",
      "66142/66142 [==============================] - 3s 46us/step - loss: 0.4543 - acc: 0.7932 - val_loss: 0.4832 - val_acc: 0.8008\n",
      "Epoch 20/60\n",
      "66142/66142 [==============================] - 3s 40us/step - loss: 0.4485 - acc: 0.7963 - val_loss: 0.4713 - val_acc: 0.8068\n",
      "Epoch 21/60\n",
      "66142/66142 [==============================] - 3s 39us/step - loss: 0.4427 - acc: 0.7995 - val_loss: 0.4716 - val_acc: 0.8049\n",
      "Epoch 22/60\n",
      "66142/66142 [==============================] - 3s 40us/step - loss: 0.4369 - acc: 0.8033 - val_loss: 0.4540 - val_acc: 0.8167\n",
      "Epoch 23/60\n",
      "66142/66142 [==============================] - 3s 41us/step - loss: 0.4313 - acc: 0.8057 - val_loss: 0.4554 - val_acc: 0.8137\n",
      "Epoch 24/60\n",
      "66142/66142 [==============================] - 3s 42us/step - loss: 0.4257 - acc: 0.8100 - val_loss: 0.4581 - val_acc: 0.8104\n",
      "Epoch 25/60\n",
      "66142/66142 [==============================] - 3s 45us/step - loss: 0.4200 - acc: 0.8139 - val_loss: 0.4513 - val_acc: 0.8146\n",
      "Epoch 26/60\n",
      "66142/66142 [==============================] - 3s 39us/step - loss: 0.4146 - acc: 0.8171 - val_loss: 0.4370 - val_acc: 0.8234\n",
      "Epoch 27/60\n",
      "66142/66142 [==============================] - 3s 40us/step - loss: 0.4090 - acc: 0.8197 - val_loss: 0.4496 - val_acc: 0.8163\n",
      "Epoch 28/60\n",
      "66142/66142 [==============================] - 3s 42us/step - loss: 0.4036 - acc: 0.8227 - val_loss: 0.4651 - val_acc: 0.8048\n",
      "Epoch 29/60\n",
      "66142/66142 [==============================] - 3s 40us/step - loss: 0.3982 - acc: 0.8271 - val_loss: 0.4554 - val_acc: 0.8097\n",
      "Epoch 30/60\n",
      "66142/66142 [==============================] - 3s 42us/step - loss: 0.3928 - acc: 0.8300 - val_loss: 0.4505 - val_acc: 0.8144\n",
      "Epoch 31/60\n",
      "66142/66142 [==============================] - 3s 46us/step - loss: 0.3875 - acc: 0.8328 - val_loss: 0.4448 - val_acc: 0.8172\n",
      "Epoch 32/60\n",
      "66142/66142 [==============================] - 3s 42us/step - loss: 0.3824 - acc: 0.8359 - val_loss: 0.4704 - val_acc: 0.8006\n",
      "Epoch 33/60\n",
      "66142/66142 [==============================] - 3s 42us/step - loss: 0.3772 - acc: 0.8392 - val_loss: 0.4466 - val_acc: 0.8166\n",
      "Epoch 34/60\n",
      "66142/66142 [==============================] - 3s 42us/step - loss: 0.3720 - acc: 0.8427 - val_loss: 0.4500 - val_acc: 0.8152\n",
      "Epoch 35/60\n",
      "66142/66142 [==============================] - 3s 44us/step - loss: 0.3671 - acc: 0.8450 - val_loss: 0.4323 - val_acc: 0.8249\n",
      "Epoch 36/60\n",
      "66142/66142 [==============================] - 3s 49us/step - loss: 0.3621 - acc: 0.8480 - val_loss: 0.4433 - val_acc: 0.8190\n",
      "Epoch 37/60\n",
      "66142/66142 [==============================] - 3s 46us/step - loss: 0.3571 - acc: 0.8512 - val_loss: 0.4485 - val_acc: 0.8153\n",
      "Epoch 38/60\n",
      "66142/66142 [==============================] - 3s 42us/step - loss: 0.3523 - acc: 0.8536 - val_loss: 0.4279 - val_acc: 0.8281\n",
      "Epoch 39/60\n",
      "66142/66142 [==============================] - 3s 42us/step - loss: 0.3475 - acc: 0.8555 - val_loss: 0.4387 - val_acc: 0.8222\n",
      "Epoch 40/60\n",
      "66142/66142 [==============================] - 3s 42us/step - loss: 0.3428 - acc: 0.8577 - val_loss: 0.4208 - val_acc: 0.8336\n",
      "Epoch 41/60\n",
      "66142/66142 [==============================] - 3s 43us/step - loss: 0.3381 - acc: 0.8609 - val_loss: 0.4446 - val_acc: 0.8176\n",
      "Epoch 42/60\n",
      "66142/66142 [==============================] - 3s 48us/step - loss: 0.3335 - acc: 0.8629 - val_loss: 0.4206 - val_acc: 0.8325\n",
      "Epoch 43/60\n",
      "66142/66142 [==============================] - 3s 45us/step - loss: 0.3289 - acc: 0.8652 - val_loss: 0.4180 - val_acc: 0.8358\n",
      "Epoch 44/60\n",
      "66142/66142 [==============================] - 3s 43us/step - loss: 0.3244 - acc: 0.8687 - val_loss: 0.4295 - val_acc: 0.8274\n",
      "Epoch 45/60\n",
      "66142/66142 [==============================] - 3s 43us/step - loss: 0.3201 - acc: 0.8702 - val_loss: 0.4149 - val_acc: 0.8358\n",
      "Epoch 46/60\n",
      "66142/66142 [==============================] - 3s 47us/step - loss: 0.3156 - acc: 0.8725 - val_loss: 0.4262 - val_acc: 0.8308\n",
      "Epoch 47/60\n",
      "66142/66142 [==============================] - 3s 49us/step - loss: 0.3114 - acc: 0.8745 - val_loss: 0.4191 - val_acc: 0.8346\n",
      "Epoch 48/60\n",
      "66142/66142 [==============================] - 3s 44us/step - loss: 0.3072 - acc: 0.8764 - val_loss: 0.4113 - val_acc: 0.8388\n",
      "Epoch 49/60\n",
      "66142/66142 [==============================] - 3s 47us/step - loss: 0.3031 - acc: 0.8792 - val_loss: 0.4101 - val_acc: 0.8408\n",
      "Epoch 50/60\n",
      "66142/66142 [==============================] - 3s 44us/step - loss: 0.2990 - acc: 0.8805 - val_loss: 0.4037 - val_acc: 0.8447\n",
      "Epoch 51/60\n",
      "66142/66142 [==============================] - 3s 45us/step - loss: 0.2950 - acc: 0.8823 - val_loss: 0.4149 - val_acc: 0.8369\n",
      "Epoch 52/60\n",
      "66142/66142 [==============================] - 3s 49us/step - loss: 0.2909 - acc: 0.8851 - val_loss: 0.4248 - val_acc: 0.8319\n",
      "Epoch 53/60\n",
      "66142/66142 [==============================] - 3s 43us/step - loss: 0.2871 - acc: 0.8864 - val_loss: 0.4122 - val_acc: 0.8418\n",
      "Epoch 54/60\n",
      "66142/66142 [==============================] - 3s 44us/step - loss: 0.2833 - acc: 0.8884 - val_loss: 0.4192 - val_acc: 0.8349\n",
      "Epoch 55/60\n",
      "66142/66142 [==============================] - 3s 45us/step - loss: 0.2795 - acc: 0.8901 - val_loss: 0.4230 - val_acc: 0.8325\n",
      "Epoch 56/60\n",
      "66142/66142 [==============================] - 3s 45us/step - loss: 0.2758 - acc: 0.8919 - val_loss: 0.4085 - val_acc: 0.8421\n",
      "Epoch 57/60\n",
      "66142/66142 [==============================] - 3s 44us/step - loss: 0.2722 - acc: 0.8939 - val_loss: 0.4227 - val_acc: 0.8343\n",
      "Epoch 58/60\n",
      "66142/66142 [==============================] - 3s 48us/step - loss: 0.2687 - acc: 0.8954 - val_loss: 0.4032 - val_acc: 0.8462\n",
      "Epoch 59/60\n",
      "66142/66142 [==============================] - 3s 45us/step - loss: 0.2651 - acc: 0.8973 - val_loss: 0.4075 - val_acc: 0.8443\n",
      "Epoch 60/60\n",
      "66142/66142 [==============================] - 3s 46us/step - loss: 0.2617 - acc: 0.8987 - val_loss: 0.4038 - val_acc: 0.8474\n"
     ]
    }
   ],
   "source": [
    "\n",
    "from keras.optimizers import SGD,RMSprop, Adagrad, Adadelta, Adam, Adamax, Nadam\n",
    "model=Sequential()\n",
    "model.add(Dense(128, activation='relu', kernel_initializer=keras.initializers.he_normal(seed=seed), bias_initializer='zeros',input_shape=n_cols ))\n",
    "model.add(Dense(128, activation='relu', kernel_initializer=keras.initializers.he_normal(seed=seed), bias_initializer='zeros'))\n",
    "model.add(Dense(1, activation='sigmoid'))\n",
    "model.compile(optimizer=SGD(lr=0.001), loss='binary_crossentropy', metrics=['accuracy'])\n",
    "history = model.fit(X_train, y_train,validation_data=[X_test, y_test], batch_size=32,epochs=60,verbose=1)"
   ]
  },
  {
   "cell_type": "code",
   "execution_count": 131,
   "metadata": {},
   "outputs": [
    {
     "data": {
      "text/plain": [
       "array([[0],\n",
       "       [0],\n",
       "       [0],\n",
       "       ...,\n",
       "       [0],\n",
       "       [0],\n",
       "       [0]])"
      ]
     },
     "execution_count": 131,
     "metadata": {},
     "output_type": "execute_result"
    }
   ],
   "source": [
    "predictions=model.predict_classes(X_test)\n",
    "predictions"
   ]
  },
  {
   "cell_type": "code",
   "execution_count": 132,
   "metadata": {},
   "outputs": [
    {
     "name": "stdout",
     "output_type": "stream",
     "text": [
      "\n",
      "Confusion matrix:\n",
      " [[12581  1585]\n",
      " [  766   473]]\n"
     ]
    }
   ],
   "source": [
    "from sklearn.metrics import confusion_matrix\n",
    "print ('\\nConfusion matrix:\\n', confusion_matrix(y_test,predictions))"
   ]
  },
  {
   "cell_type": "code",
   "execution_count": 133,
   "metadata": {},
   "outputs": [
    {
     "data": {
      "text/plain": [
       "0.6349359326067702"
      ]
     },
     "execution_count": 133,
     "metadata": {},
     "output_type": "execute_result"
    }
   ],
   "source": [
    "from sklearn.metrics import roc_auc_score\n",
    "auc_score=roc_auc_score(y_test,predictions)\n",
    "auc_score"
   ]
  },
  {
   "cell_type": "code",
   "execution_count": 134,
   "metadata": {},
   "outputs": [
    {
     "name": "stdout",
     "output_type": "stream",
     "text": [
      "\n",
      "Clasification report:\n",
      "               precision    recall  f1-score   support\n",
      "\n",
      "           0       0.94      0.89      0.91     14166\n",
      "           1       0.23      0.38      0.29      1239\n",
      "\n",
      "    accuracy                           0.85     15405\n",
      "   macro avg       0.59      0.63      0.60     15405\n",
      "weighted avg       0.89      0.85      0.86     15405\n",
      "\n"
     ]
    }
   ],
   "source": [
    "from sklearn.metrics import classification_report\n",
    "target_names = [\"0\",\"1\"]\n",
    "print ('\\nClasification report:\\n', classification_report(y_test, predictions, target_names=target_names))"
   ]
  },
  {
   "cell_type": "code",
   "execution_count": 141,
   "metadata": {},
   "outputs": [
    {
     "data": {
      "image/png": "[encoded data removed]",
      "text/plain": [
       "<Figure size 432x288 with 1 Axes>"
      ]
     },
     "metadata": {
      "needs_background": "light"
     },
     "output_type": "display_data"
    }
   ],
   "source": [
    "import matplotlib.pyplot as plt\n",
    "\n",
    "\n",
    "plt.plot(history.history['acc'])\n",
    "plt.plot(history.history['val_acc'])\n",
    "plt.title('Model accuracy')\n",
    "plt.ylabel('Accuracy')\n",
    "plt.xlabel('Epoch')\n",
    "plt.legend(['Train', 'Test'], loc='upper left')\n",
    "plt.show()"
   ]
  },
  {
   "cell_type": "code",
   "execution_count": 140,
   "metadata": {
    "colab": {
     "base_uri": "https://localhost:8080/",
     "height": 295
    },
    "colab_type": "code",
    "id": "RPBjSoVqaKU2",
    "outputId": "cb9bb575-5697-4994-9c92-eea369b61a75"
   },
   "outputs": [
    {
     "data": {
      "image/png": "[encoded data removed]",
      "text/plain": [
       "<Figure size 432x288 with 1 Axes>"
      ]
     },
     "metadata": {
      "needs_background": "light"
     },
     "output_type": "display_data"
    }
   ],
   "source": [
    "plt.plot(history.history['loss'])\n",
    "plt.plot(history.history['val_loss'])\n",
    "plt.title('Model loss')\n",
    "plt.ylabel('Loss')\n",
    "plt.xlabel('Epoch')\n",
    "plt.legend(['Train', 'Test'], loc='upper left')\n",
    "plt.show()"
   ]
  },
  {
   "cell_type": "markdown",
   "metadata": {},
   "source": [
    "The best performing model is compiled and fitted. Validation accuracy of the model is 0.8474. Confusion matrix, auc score, and classification report of the model is printed. Auc score of the model is 0.635. Precision and recall of the model are 0.23 and 0.38 for ones, 0.94 and 0.89 for zeros, respectively. Model accuracy and model loss graphs are drawn. Since test accuracy has an upward trend and test loss has a downward trend, a new model with more epochs is implemented. Also, dropouts are added to the new model in order to prevent overfitting."
   ]
  },
  {
   "cell_type": "code",
   "execution_count": 121,
   "metadata": {
    "colab": {
     "base_uri": "https://localhost:8080/",
     "height": 1210
    },
    "colab_type": "code",
    "id": "7dNwKzrDrBHo",
    "outputId": "bcc27188-0323-48aa-b39f-33ebf0ee49eb"
   },
   "outputs": [
    {
     "name": "stdout",
     "output_type": "stream",
     "text": [
      "Train on 66142 samples, validate on 15405 samples\n",
      "Epoch 1/250\n",
      "66142/66142 [==============================] - 3s 52us/step - loss: 0.6846 - acc: 0.6070 - val_loss: 0.5670 - val_acc: 0.7660\n",
      "Epoch 2/250\n",
      "66142/66142 [==============================] - 3s 43us/step - loss: 0.6181 - acc: 0.6591 - val_loss: 0.5202 - val_acc: 0.8118\n",
      "Epoch 3/250\n",
      "66142/66142 [==============================] - 3s 42us/step - loss: 0.5964 - acc: 0.6759 - val_loss: 0.5289 - val_acc: 0.8049\n",
      "Epoch 4/250\n",
      "66142/66142 [==============================] - 3s 45us/step - loss: 0.5846 - acc: 0.6868 - val_loss: 0.5110 - val_acc: 0.8208\n",
      "Epoch 5/250\n",
      "66142/66142 [==============================] - 3s 43us/step - loss: 0.5751 - acc: 0.6941 - val_loss: 0.5306 - val_acc: 0.8029\n",
      "Epoch 6/250\n",
      "66142/66142 [==============================] - 3s 49us/step - loss: 0.5667 - acc: 0.7029 - val_loss: 0.5282 - val_acc: 0.8043\n",
      "Epoch 7/250\n",
      "66142/66142 [==============================] - 4s 66us/step - loss: 0.5617 - acc: 0.7075 - val_loss: 0.5154 - val_acc: 0.8153\n",
      "Epoch 8/250\n",
      "66142/66142 [==============================] - 4s 57us/step - loss: 0.5550 - acc: 0.7126 - val_loss: 0.5154 - val_acc: 0.8135\n",
      "Epoch 9/250\n",
      "66142/66142 [==============================] - 4s 61us/step - loss: 0.5492 - acc: 0.7185 - val_loss: 0.5050 - val_acc: 0.8199\n",
      "Epoch 10/250\n",
      "66142/66142 [==============================] - 4s 55us/step - loss: 0.5453 - acc: 0.7227 - val_loss: 0.5041 - val_acc: 0.8190\n",
      "Epoch 11/250\n",
      "66142/66142 [==============================] - 4s 59us/step - loss: 0.5407 - acc: 0.7248 - val_loss: 0.5127 - val_acc: 0.8106\n",
      "Epoch 12/250\n",
      "66142/66142 [==============================] - 4s 62us/step - loss: 0.5352 - acc: 0.7308 - val_loss: 0.5164 - val_acc: 0.8056\n",
      "Epoch 13/250\n",
      "66142/66142 [==============================] - 4s 63us/step - loss: 0.5308 - acc: 0.7337 - val_loss: 0.4972 - val_acc: 0.8172\n",
      "Epoch 14/250\n",
      "66142/66142 [==============================] - 4s 55us/step - loss: 0.5277 - acc: 0.7363 - val_loss: 0.5073 - val_acc: 0.8084\n",
      "Epoch 15/250\n",
      "66142/66142 [==============================] - 4s 62us/step - loss: 0.5238 - acc: 0.7398 - val_loss: 0.5068 - val_acc: 0.8071\n",
      "Epoch 16/250\n",
      "66142/66142 [==============================] - 4s 66us/step - loss: 0.5210 - acc: 0.7408 - val_loss: 0.5113 - val_acc: 0.8032\n",
      "Epoch 17/250\n",
      "66142/66142 [==============================] - 4s 64us/step - loss: 0.5171 - acc: 0.7460 - val_loss: 0.4942 - val_acc: 0.8140\n",
      "Epoch 18/250\n",
      "66142/66142 [==============================] - 4s 63us/step - loss: 0.5135 - acc: 0.7488 - val_loss: 0.4847 - val_acc: 0.8194\n",
      "Epoch 19/250\n",
      "66142/66142 [==============================] - 5s 76us/step - loss: 0.5121 - acc: 0.7484 - val_loss: 0.4794 - val_acc: 0.8212\n",
      "Epoch 20/250\n",
      "66142/66142 [==============================] - 4s 59us/step - loss: 0.5090 - acc: 0.7522 - val_loss: 0.4878 - val_acc: 0.8129\n",
      "Epoch 21/250\n",
      "66142/66142 [==============================] - 4s 61us/step - loss: 0.5044 - acc: 0.7549 - val_loss: 0.4858 - val_acc: 0.8121\n",
      "Epoch 22/250\n",
      "66142/66142 [==============================] - 4s 57us/step - loss: 0.5030 - acc: 0.7557 - val_loss: 0.4926 - val_acc: 0.8058\n",
      "Epoch 23/250\n",
      "66142/66142 [==============================] - 4s 60us/step - loss: 0.4992 - acc: 0.7588 - val_loss: 0.4844 - val_acc: 0.8110\n",
      "Epoch 24/250\n",
      "66142/66142 [==============================] - 4s 59us/step - loss: 0.4958 - acc: 0.7606 - val_loss: 0.4838 - val_acc: 0.8112\n",
      "Epoch 25/250\n",
      "66142/66142 [==============================] - 4s 60us/step - loss: 0.4941 - acc: 0.7618 - val_loss: 0.4899 - val_acc: 0.8053\n",
      "Epoch 26/250\n",
      "66142/66142 [==============================] - 4s 68us/step - loss: 0.4912 - acc: 0.7644 - val_loss: 0.4737 - val_acc: 0.8147\n",
      "Epoch 27/250\n",
      "66142/66142 [==============================] - 5s 76us/step - loss: 0.4880 - acc: 0.7677 - val_loss: 0.4628 - val_acc: 0.8201\n",
      "Epoch 28/250\n",
      "66142/66142 [==============================] - 6s 87us/step - loss: 0.4845 - acc: 0.7679 - val_loss: 0.4928 - val_acc: 0.7995\n",
      "Epoch 29/250\n",
      "66142/66142 [==============================] - 4s 61us/step - loss: 0.4841 - acc: 0.7687 - val_loss: 0.4792 - val_acc: 0.8086\n",
      "Epoch 30/250\n",
      "66142/66142 [==============================] - 4s 60us/step - loss: 0.4808 - acc: 0.7727 - val_loss: 0.4818 - val_acc: 0.8055\n",
      "Epoch 31/250\n",
      "66142/66142 [==============================] - 4s 61us/step - loss: 0.4791 - acc: 0.7741 - val_loss: 0.4650 - val_acc: 0.8153\n",
      "Epoch 32/250\n",
      "66142/66142 [==============================] - 5s 70us/step - loss: 0.4771 - acc: 0.7744 - val_loss: 0.4750 - val_acc: 0.8080\n",
      "Epoch 33/250\n",
      "66142/66142 [==============================] - 4s 59us/step - loss: 0.4732 - acc: 0.7754 - val_loss: 0.4760 - val_acc: 0.8071\n",
      "Epoch 34/250\n",
      "66142/66142 [==============================] - 4s 56us/step - loss: 0.4714 - acc: 0.7791 - val_loss: 0.4745 - val_acc: 0.8077\n",
      "Epoch 35/250\n",
      "66142/66142 [==============================] - 4s 65us/step - loss: 0.4684 - acc: 0.7795 - val_loss: 0.4641 - val_acc: 0.8147\n",
      "Epoch 36/250\n",
      "66142/66142 [==============================] - 4s 67us/step - loss: 0.4666 - acc: 0.7819 - val_loss: 0.4771 - val_acc: 0.8054\n",
      "Epoch 37/250\n",
      "66142/66142 [==============================] - 4s 63us/step - loss: 0.4636 - acc: 0.7842 - val_loss: 0.4831 - val_acc: 0.7995\n",
      "Epoch 38/250\n",
      "66142/66142 [==============================] - 4s 61us/step - loss: 0.4625 - acc: 0.7843 - val_loss: 0.4637 - val_acc: 0.8134\n",
      "Epoch 39/250\n",
      "66142/66142 [==============================] - 4s 64us/step - loss: 0.4598 - acc: 0.7862 - val_loss: 0.4549 - val_acc: 0.8179\n",
      "Epoch 40/250\n",
      "66142/66142 [==============================] - 4s 66us/step - loss: 0.4598 - acc: 0.7867 - val_loss: 0.4781 - val_acc: 0.8036\n",
      "Epoch 41/250\n",
      "66142/66142 [==============================] - 4s 68us/step - loss: 0.4565 - acc: 0.7888 - val_loss: 0.4585 - val_acc: 0.8161\n",
      "Epoch 42/250\n",
      "66142/66142 [==============================] - 4s 67us/step - loss: 0.4526 - acc: 0.7904 - val_loss: 0.4595 - val_acc: 0.8156\n",
      "Epoch 43/250\n",
      "66142/66142 [==============================] - 4s 61us/step - loss: 0.4502 - acc: 0.7904 - val_loss: 0.4636 - val_acc: 0.8110\n",
      "Epoch 44/250\n",
      "66142/66142 [==============================] - 4s 64us/step - loss: 0.4494 - acc: 0.7923 - val_loss: 0.4587 - val_acc: 0.8142\n",
      "Epoch 45/250\n",
      "66142/66142 [==============================] - 4s 67us/step - loss: 0.4461 - acc: 0.7945 - val_loss: 0.4668 - val_acc: 0.8080\n",
      "Epoch 46/250\n",
      "66142/66142 [==============================] - 4s 64us/step - loss: 0.4446 - acc: 0.7949 - val_loss: 0.4618 - val_acc: 0.8114\n",
      "Epoch 47/250\n",
      "66142/66142 [==============================] - 4s 66us/step - loss: 0.4417 - acc: 0.7993 - val_loss: 0.4685 - val_acc: 0.8070\n",
      "Epoch 48/250\n",
      "66142/66142 [==============================] - 4s 65us/step - loss: 0.4403 - acc: 0.8006 - val_loss: 0.4570 - val_acc: 0.8135\n",
      "Epoch 49/250\n",
      "66142/66142 [==============================] - 4s 64us/step - loss: 0.4387 - acc: 0.8015 - val_loss: 0.4583 - val_acc: 0.8122\n",
      "Epoch 50/250\n",
      "66142/66142 [==============================] - 4s 58us/step - loss: 0.4348 - acc: 0.8015 - val_loss: 0.4532 - val_acc: 0.8151\n",
      "Epoch 51/250\n",
      "66142/66142 [==============================] - 4s 66us/step - loss: 0.4342 - acc: 0.8045 - val_loss: 0.4576 - val_acc: 0.8104\n",
      "Epoch 52/250\n",
      "66142/66142 [==============================] - 4s 65us/step - loss: 0.4310 - acc: 0.8035 - val_loss: 0.4598 - val_acc: 0.8090\n",
      "Epoch 53/250\n",
      "66142/66142 [==============================] - 4s 65us/step - loss: 0.4301 - acc: 0.8045 - val_loss: 0.4420 - val_acc: 0.8219\n",
      "Epoch 54/250\n",
      "66142/66142 [==============================] - 4s 67us/step - loss: 0.4284 - acc: 0.8070 - val_loss: 0.4506 - val_acc: 0.8152\n",
      "Epoch 55/250\n",
      "66142/66142 [==============================] - 4s 64us/step - loss: 0.4249 - acc: 0.8104 - val_loss: 0.4495 - val_acc: 0.8164\n",
      "Epoch 56/250\n",
      "66142/66142 [==============================] - 5s 68us/step - loss: 0.4224 - acc: 0.8102 - val_loss: 0.4588 - val_acc: 0.8084\n",
      "Epoch 57/250\n",
      "66142/66142 [==============================] - 4s 64us/step - loss: 0.4216 - acc: 0.8116 - val_loss: 0.4504 - val_acc: 0.8148\n",
      "Epoch 58/250\n",
      "66142/66142 [==============================] - 5s 70us/step - loss: 0.4200 - acc: 0.8115 - val_loss: 0.4528 - val_acc: 0.8138\n",
      "Epoch 59/250\n",
      "66142/66142 [==============================] - 5s 75us/step - loss: 0.4179 - acc: 0.8123 - val_loss: 0.4533 - val_acc: 0.8121\n",
      "Epoch 60/250\n",
      "66142/66142 [==============================] - 4s 63us/step - loss: 0.4163 - acc: 0.8127 - val_loss: 0.4519 - val_acc: 0.8121\n",
      "Epoch 61/250\n",
      "66142/66142 [==============================] - 4s 60us/step - loss: 0.4134 - acc: 0.8146 - val_loss: 0.4410 - val_acc: 0.8197\n",
      "Epoch 62/250\n",
      "66142/66142 [==============================] - 4s 67us/step - loss: 0.4109 - acc: 0.8167 - val_loss: 0.4351 - val_acc: 0.8238\n",
      "Epoch 63/250\n",
      "66142/66142 [==============================] - 4s 65us/step - loss: 0.4090 - acc: 0.8177 - val_loss: 0.4485 - val_acc: 0.8147\n",
      "Epoch 64/250\n",
      "66142/66142 [==============================] - 4s 59us/step - loss: 0.4086 - acc: 0.8181 - val_loss: 0.4378 - val_acc: 0.8216\n",
      "Epoch 65/250\n",
      "66142/66142 [==============================] - 4s 60us/step - loss: 0.4069 - acc: 0.8194 - val_loss: 0.4378 - val_acc: 0.8217\n",
      "Epoch 66/250\n",
      "66142/66142 [==============================] - 4s 62us/step - loss: 0.4037 - acc: 0.8216 - val_loss: 0.4295 - val_acc: 0.8271\n",
      "Epoch 67/250\n",
      "66142/66142 [==============================] - 4s 62us/step - loss: 0.4024 - acc: 0.8219 - val_loss: 0.4405 - val_acc: 0.8193\n",
      "Epoch 68/250\n",
      "66142/66142 [==============================] - 5s 69us/step - loss: 0.4019 - acc: 0.8220 - val_loss: 0.4398 - val_acc: 0.8194\n",
      "Epoch 69/250\n",
      "66142/66142 [==============================] - 5s 72us/step - loss: 0.4003 - acc: 0.8228 - val_loss: 0.4442 - val_acc: 0.8154\n",
      "Epoch 70/250\n",
      "66142/66142 [==============================] - 5s 70us/step - loss: 0.3968 - acc: 0.8250 - val_loss: 0.4387 - val_acc: 0.8193\n",
      "Epoch 71/250\n",
      "66142/66142 [==============================] - 4s 68us/step - loss: 0.3958 - acc: 0.8258 - val_loss: 0.4432 - val_acc: 0.8151\n",
      "Epoch 72/250\n",
      "66142/66142 [==============================] - 4s 65us/step - loss: 0.3932 - acc: 0.8269 - val_loss: 0.4237 - val_acc: 0.8287\n",
      "Epoch 73/250\n",
      "66142/66142 [==============================] - 5s 71us/step - loss: 0.3902 - acc: 0.8270 - val_loss: 0.4349 - val_acc: 0.8203\n",
      "Epoch 74/250\n",
      "66142/66142 [==============================] - 5s 75us/step - loss: 0.3904 - acc: 0.8283 - val_loss: 0.4341 - val_acc: 0.8204\n",
      "Epoch 75/250\n",
      "66142/66142 [==============================] - 4s 66us/step - loss: 0.3868 - acc: 0.8304 - val_loss: 0.4249 - val_acc: 0.8261\n",
      "Epoch 76/250\n",
      "66142/66142 [==============================] - 4s 67us/step - loss: 0.3850 - acc: 0.8321 - val_loss: 0.4254 - val_acc: 0.8253\n",
      "Epoch 77/250\n",
      "66142/66142 [==============================] - 4s 66us/step - loss: 0.3846 - acc: 0.8319 - val_loss: 0.4302 - val_acc: 0.8220\n",
      "Epoch 78/250\n",
      "66142/66142 [==============================] - 4s 66us/step - loss: 0.3811 - acc: 0.8341 - val_loss: 0.4393 - val_acc: 0.8157\n",
      "Epoch 79/250\n",
      "66142/66142 [==============================] - 4s 63us/step - loss: 0.3810 - acc: 0.8350 - val_loss: 0.4260 - val_acc: 0.8245\n",
      "Epoch 80/250\n",
      "66142/66142 [==============================] - 5s 68us/step - loss: 0.3780 - acc: 0.8356 - val_loss: 0.4197 - val_acc: 0.8288\n",
      "Epoch 81/250\n",
      "66142/66142 [==============================] - 4s 65us/step - loss: 0.3776 - acc: 0.8343 - val_loss: 0.4282 - val_acc: 0.8230\n",
      "Epoch 82/250\n",
      "66142/66142 [==============================] - 4s 66us/step - loss: 0.3760 - acc: 0.8356 - val_loss: 0.4240 - val_acc: 0.8253\n",
      "Epoch 83/250\n",
      "66142/66142 [==============================] - 4s 65us/step - loss: 0.3731 - acc: 0.8393 - val_loss: 0.4284 - val_acc: 0.8227\n",
      "Epoch 84/250\n",
      "66142/66142 [==============================] - 4s 67us/step - loss: 0.3712 - acc: 0.8390 - val_loss: 0.4201 - val_acc: 0.8290\n",
      "Epoch 85/250\n",
      "66142/66142 [==============================] - 4s 66us/step - loss: 0.3709 - acc: 0.8396 - val_loss: 0.4104 - val_acc: 0.8356\n",
      "Epoch 86/250\n",
      "66142/66142 [==============================] - 4s 67us/step - loss: 0.3686 - acc: 0.8398 - val_loss: 0.4221 - val_acc: 0.8269\n",
      "Epoch 87/250\n",
      "66142/66142 [==============================] - 5s 69us/step - loss: 0.3677 - acc: 0.8401 - val_loss: 0.4199 - val_acc: 0.8288\n",
      "Epoch 88/250\n",
      "66142/66142 [==============================] - 4s 66us/step - loss: 0.3669 - acc: 0.8415 - val_loss: 0.4164 - val_acc: 0.8312\n",
      "Epoch 89/250\n",
      "66142/66142 [==============================] - 4s 64us/step - loss: 0.3627 - acc: 0.8444 - val_loss: 0.4181 - val_acc: 0.8280\n",
      "Epoch 90/250\n",
      "66142/66142 [==============================] - 4s 65us/step - loss: 0.3620 - acc: 0.8436 - val_loss: 0.4057 - val_acc: 0.8376\n",
      "Epoch 91/250\n",
      "66142/66142 [==============================] - 5s 69us/step - loss: 0.3616 - acc: 0.8447 - val_loss: 0.4174 - val_acc: 0.8282\n",
      "Epoch 92/250\n",
      "66142/66142 [==============================] - 4s 65us/step - loss: 0.3588 - acc: 0.8464 - val_loss: 0.4205 - val_acc: 0.8266\n",
      "Epoch 93/250\n",
      "66142/66142 [==============================] - 4s 66us/step - loss: 0.3581 - acc: 0.8471 - val_loss: 0.4136 - val_acc: 0.8313\n",
      "Epoch 94/250\n",
      "66142/66142 [==============================] - 4s 68us/step - loss: 0.3542 - acc: 0.8487 - val_loss: 0.4196 - val_acc: 0.8271\n",
      "Epoch 95/250\n",
      "66142/66142 [==============================] - 4s 66us/step - loss: 0.3539 - acc: 0.8480 - val_loss: 0.4198 - val_acc: 0.8271\n",
      "Epoch 96/250\n",
      "66142/66142 [==============================] - 4s 67us/step - loss: 0.3509 - acc: 0.8510 - val_loss: 0.4184 - val_acc: 0.8289\n",
      "Epoch 97/250\n",
      "66142/66142 [==============================] - 4s 66us/step - loss: 0.3497 - acc: 0.8503 - val_loss: 0.4089 - val_acc: 0.8344\n",
      "Epoch 98/250\n",
      "66142/66142 [==============================] - 5s 68us/step - loss: 0.3499 - acc: 0.8504 - val_loss: 0.4178 - val_acc: 0.8284\n",
      "Epoch 99/250\n",
      "66142/66142 [==============================] - 4s 67us/step - loss: 0.3469 - acc: 0.8532 - val_loss: 0.4101 - val_acc: 0.8341\n",
      "Epoch 100/250\n",
      "66142/66142 [==============================] - 4s 64us/step - loss: 0.3485 - acc: 0.8510 - val_loss: 0.4134 - val_acc: 0.8301\n",
      "Epoch 101/250\n",
      "66142/66142 [==============================] - 4s 67us/step - loss: 0.3464 - acc: 0.8529 - val_loss: 0.4070 - val_acc: 0.8364\n",
      "Epoch 102/250\n",
      "66142/66142 [==============================] - 5s 76us/step - loss: 0.3432 - acc: 0.8547 - val_loss: 0.4062 - val_acc: 0.8353\n",
      "Epoch 103/250\n",
      "66142/66142 [==============================] - 5s 68us/step - loss: 0.3417 - acc: 0.8547 - val_loss: 0.4059 - val_acc: 0.8364\n",
      "Epoch 104/250\n",
      "66142/66142 [==============================] - 5s 74us/step - loss: 0.3400 - acc: 0.8550 - val_loss: 0.4013 - val_acc: 0.8382\n",
      "Epoch 105/250\n",
      "66142/66142 [==============================] - 5s 73us/step - loss: 0.3395 - acc: 0.8550 - val_loss: 0.4051 - val_acc: 0.8365\n",
      "Epoch 106/250\n",
      "66142/66142 [==============================] - 4s 65us/step - loss: 0.3364 - acc: 0.8568 - val_loss: 0.4039 - val_acc: 0.8379\n",
      "Epoch 107/250\n",
      "66142/66142 [==============================] - 4s 64us/step - loss: 0.3355 - acc: 0.8584 - val_loss: 0.3989 - val_acc: 0.8414\n",
      "Epoch 108/250\n",
      "66142/66142 [==============================] - 4s 65us/step - loss: 0.3346 - acc: 0.8572 - val_loss: 0.4047 - val_acc: 0.8364\n",
      "Epoch 109/250\n",
      "66142/66142 [==============================] - 4s 67us/step - loss: 0.3338 - acc: 0.8594 - val_loss: 0.4078 - val_acc: 0.8350\n",
      "Epoch 110/250\n",
      "66142/66142 [==============================] - 4s 66us/step - loss: 0.3315 - acc: 0.8596 - val_loss: 0.3944 - val_acc: 0.8436\n",
      "Epoch 111/250\n",
      "66142/66142 [==============================] - 4s 65us/step - loss: 0.3305 - acc: 0.8600 - val_loss: 0.4006 - val_acc: 0.8393\n",
      "Epoch 112/250\n",
      "66142/66142 [==============================] - 4s 64us/step - loss: 0.3283 - acc: 0.8628 - val_loss: 0.3987 - val_acc: 0.8401\n",
      "Epoch 113/250\n",
      "66142/66142 [==============================] - 5s 80us/step - loss: 0.3261 - acc: 0.8626 - val_loss: 0.4007 - val_acc: 0.8391\n",
      "Epoch 114/250\n",
      "66142/66142 [==============================] - 5s 82us/step - loss: 0.3295 - acc: 0.8600 - val_loss: 0.3984 - val_acc: 0.8406\n",
      "Epoch 115/250\n",
      "66142/66142 [==============================] - 5s 81us/step - loss: 0.3264 - acc: 0.8604 - val_loss: 0.3987 - val_acc: 0.8402\n",
      "Epoch 116/250\n",
      "66142/66142 [==============================] - 7s 100us/step - loss: 0.3251 - acc: 0.8618 - val_loss: 0.4052 - val_acc: 0.8371\n",
      "Epoch 117/250\n",
      "66142/66142 [==============================] - 4s 67us/step - loss: 0.3204 - acc: 0.8661 - val_loss: 0.4062 - val_acc: 0.8365\n",
      "Epoch 118/250\n",
      "66142/66142 [==============================] - 5s 73us/step - loss: 0.3212 - acc: 0.8640 - val_loss: 0.3957 - val_acc: 0.8426\n",
      "Epoch 119/250\n",
      "66142/66142 [==============================] - 5s 78us/step - loss: 0.3202 - acc: 0.8640 - val_loss: 0.3986 - val_acc: 0.8414\n",
      "Epoch 120/250\n",
      "66142/66142 [==============================] - 5s 72us/step - loss: 0.3193 - acc: 0.8660 - val_loss: 0.4013 - val_acc: 0.8389\n",
      "Epoch 121/250\n",
      "66142/66142 [==============================] - 4s 66us/step - loss: 0.3191 - acc: 0.8662 - val_loss: 0.4117 - val_acc: 0.8342\n",
      "Epoch 122/250\n",
      "66142/66142 [==============================] - 5s 69us/step - loss: 0.3163 - acc: 0.8660 - val_loss: 0.3901 - val_acc: 0.8460\n",
      "Epoch 123/250\n",
      "66142/66142 [==============================] - 4s 66us/step - loss: 0.3160 - acc: 0.8675 - val_loss: 0.3928 - val_acc: 0.8432\n",
      "Epoch 124/250\n",
      "66142/66142 [==============================] - 4s 66us/step - loss: 0.3141 - acc: 0.8676 - val_loss: 0.3914 - val_acc: 0.8452\n",
      "Epoch 125/250\n",
      "66142/66142 [==============================] - 5s 68us/step - loss: 0.3120 - acc: 0.8679 - val_loss: 0.3895 - val_acc: 0.8469\n",
      "Epoch 126/250\n",
      "66142/66142 [==============================] - 4s 66us/step - loss: 0.3112 - acc: 0.8705 - val_loss: 0.3991 - val_acc: 0.8404\n",
      "Epoch 127/250\n",
      "66142/66142 [==============================] - 5s 68us/step - loss: 0.3120 - acc: 0.8692 - val_loss: 0.4013 - val_acc: 0.8398\n",
      "Epoch 128/250\n",
      "66142/66142 [==============================] - 5s 69us/step - loss: 0.3083 - acc: 0.8716 - val_loss: 0.3898 - val_acc: 0.8466\n",
      "Epoch 129/250\n",
      "66142/66142 [==============================] - 5s 71us/step - loss: 0.3082 - acc: 0.8713 - val_loss: 0.3863 - val_acc: 0.8500\n",
      "Epoch 130/250\n",
      "66142/66142 [==============================] - 5s 69us/step - loss: 0.3085 - acc: 0.8701 - val_loss: 0.3968 - val_acc: 0.8432\n",
      "Epoch 131/250\n",
      "66142/66142 [==============================] - 4s 67us/step - loss: 0.3059 - acc: 0.8721 - val_loss: 0.3877 - val_acc: 0.8481\n",
      "Epoch 132/250\n",
      "66142/66142 [==============================] - 5s 78us/step - loss: 0.3046 - acc: 0.8731 - val_loss: 0.3913 - val_acc: 0.8456\n",
      "Epoch 133/250\n",
      "66142/66142 [==============================] - 6s 87us/step - loss: 0.3039 - acc: 0.8735 - val_loss: 0.3853 - val_acc: 0.8485\n",
      "Epoch 134/250\n",
      "66142/66142 [==============================] - 4s 66us/step - loss: 0.3027 - acc: 0.8746 - val_loss: 0.3831 - val_acc: 0.8499\n",
      "Epoch 135/250\n",
      "66142/66142 [==============================] - 5s 72us/step - loss: 0.3013 - acc: 0.8745 - val_loss: 0.3959 - val_acc: 0.8431\n",
      "Epoch 136/250\n",
      "66142/66142 [==============================] - 5s 69us/step - loss: 0.3011 - acc: 0.8757 - val_loss: 0.3975 - val_acc: 0.8415\n",
      "Epoch 137/250\n",
      "66142/66142 [==============================] - 5s 69us/step - loss: 0.2998 - acc: 0.8746 - val_loss: 0.3845 - val_acc: 0.8497\n",
      "Epoch 138/250\n",
      "66142/66142 [==============================] - 4s 64us/step - loss: 0.2979 - acc: 0.8753 - val_loss: 0.3867 - val_acc: 0.8486\n",
      "Epoch 139/250\n",
      "66142/66142 [==============================] - 5s 70us/step - loss: 0.2972 - acc: 0.8775 - val_loss: 0.3879 - val_acc: 0.8474\n",
      "Epoch 140/250\n",
      "66142/66142 [==============================] - 4s 66us/step - loss: 0.2957 - acc: 0.8777 - val_loss: 0.3889 - val_acc: 0.8466\n",
      "Epoch 141/250\n",
      "66142/66142 [==============================] - 4s 65us/step - loss: 0.2948 - acc: 0.8786 - val_loss: 0.3849 - val_acc: 0.8494\n",
      "Epoch 142/250\n",
      "66142/66142 [==============================] - 4s 66us/step - loss: 0.2929 - acc: 0.8803 - val_loss: 0.3927 - val_acc: 0.8451\n",
      "Epoch 143/250\n",
      "66142/66142 [==============================] - 5s 70us/step - loss: 0.2931 - acc: 0.8795 - val_loss: 0.3860 - val_acc: 0.8485\n",
      "Epoch 144/250\n",
      "66142/66142 [==============================] - 4s 67us/step - loss: 0.2930 - acc: 0.8773 - val_loss: 0.3775 - val_acc: 0.8536\n",
      "Epoch 145/250\n",
      "66142/66142 [==============================] - 5s 71us/step - loss: 0.2892 - acc: 0.8802 - val_loss: 0.3802 - val_acc: 0.8518\n",
      "Epoch 146/250\n",
      "66142/66142 [==============================] - 5s 72us/step - loss: 0.2885 - acc: 0.8800 - val_loss: 0.3801 - val_acc: 0.8520\n",
      "Epoch 147/250\n",
      "66142/66142 [==============================] - 4s 67us/step - loss: 0.2893 - acc: 0.8802 - val_loss: 0.3881 - val_acc: 0.8487\n",
      "Epoch 148/250\n",
      "66142/66142 [==============================] - 4s 65us/step - loss: 0.2871 - acc: 0.8797 - val_loss: 0.3890 - val_acc: 0.8476\n",
      "Epoch 149/250\n",
      "66142/66142 [==============================] - 4s 67us/step - loss: 0.2896 - acc: 0.8788 - val_loss: 0.3768 - val_acc: 0.8538\n",
      "Epoch 150/250\n",
      "66142/66142 [==============================] - 5s 68us/step - loss: 0.2846 - acc: 0.8823 - val_loss: 0.3789 - val_acc: 0.8528\n",
      "Epoch 151/250\n",
      "66142/66142 [==============================] - 5s 69us/step - loss: 0.2851 - acc: 0.8803 - val_loss: 0.3792 - val_acc: 0.8523\n",
      "Epoch 152/250\n",
      "66142/66142 [==============================] - 4s 65us/step - loss: 0.2836 - acc: 0.8815 - val_loss: 0.3847 - val_acc: 0.8498\n",
      "Epoch 153/250\n",
      "66142/66142 [==============================] - 5s 69us/step - loss: 0.2819 - acc: 0.8843 - val_loss: 0.3857 - val_acc: 0.8502\n",
      "Epoch 154/250\n",
      "66142/66142 [==============================] - 4s 67us/step - loss: 0.2817 - acc: 0.8819 - val_loss: 0.3815 - val_acc: 0.8525\n",
      "Epoch 155/250\n",
      "66142/66142 [==============================] - 5s 68us/step - loss: 0.2821 - acc: 0.8831 - val_loss: 0.3941 - val_acc: 0.8445\n",
      "Epoch 156/250\n",
      "66142/66142 [==============================] - 5s 75us/step - loss: 0.2787 - acc: 0.8843 - val_loss: 0.3802 - val_acc: 0.8534\n",
      "Epoch 157/250\n",
      "66142/66142 [==============================] - 5s 74us/step - loss: 0.2788 - acc: 0.8857 - val_loss: 0.3843 - val_acc: 0.8506\n",
      "Epoch 158/250\n",
      "66142/66142 [==============================] - 5s 78us/step - loss: 0.2801 - acc: 0.8847 - val_loss: 0.3835 - val_acc: 0.8513\n",
      "Epoch 159/250\n",
      "66142/66142 [==============================] - 5s 69us/step - loss: 0.2767 - acc: 0.8854 - val_loss: 0.3815 - val_acc: 0.8526\n",
      "Epoch 160/250\n",
      "66142/66142 [==============================] - 5s 83us/step - loss: 0.2765 - acc: 0.8854 - val_loss: 0.3782 - val_acc: 0.8541\n",
      "Epoch 161/250\n",
      "66142/66142 [==============================] - 5s 75us/step - loss: 0.2772 - acc: 0.8863 - val_loss: 0.3831 - val_acc: 0.8510\n",
      "Epoch 162/250\n",
      "66142/66142 [==============================] - 5s 75us/step - loss: 0.2749 - acc: 0.8867 - val_loss: 0.3773 - val_acc: 0.8547\n",
      "Epoch 163/250\n",
      "66142/66142 [==============================] - 5s 75us/step - loss: 0.2734 - acc: 0.8883 - val_loss: 0.3782 - val_acc: 0.8547\n",
      "Epoch 164/250\n",
      "66142/66142 [==============================] - 5s 74us/step - loss: 0.2731 - acc: 0.8875 - val_loss: 0.3732 - val_acc: 0.8573\n",
      "Epoch 165/250\n",
      "66142/66142 [==============================] - 5s 77us/step - loss: 0.2719 - acc: 0.8877 - val_loss: 0.3777 - val_acc: 0.8550\n",
      "Epoch 166/250\n",
      "66142/66142 [==============================] - 4s 66us/step - loss: 0.2713 - acc: 0.8882 - val_loss: 0.3844 - val_acc: 0.8522\n",
      "Epoch 167/250\n",
      "66142/66142 [==============================] - 5s 78us/step - loss: 0.2679 - acc: 0.8898 - val_loss: 0.3755 - val_acc: 0.8572\n",
      "Epoch 168/250\n",
      "66142/66142 [==============================] - 5s 69us/step - loss: 0.2682 - acc: 0.8898 - val_loss: 0.3735 - val_acc: 0.8587\n",
      "Epoch 169/250\n",
      "66142/66142 [==============================] - 4s 68us/step - loss: 0.2675 - acc: 0.8900 - val_loss: 0.3798 - val_acc: 0.8546\n",
      "Epoch 170/250\n",
      "66142/66142 [==============================] - 5s 78us/step - loss: 0.2667 - acc: 0.8902 - val_loss: 0.3805 - val_acc: 0.8537\n",
      "Epoch 171/250\n",
      "66142/66142 [==============================] - 5s 75us/step - loss: 0.2642 - acc: 0.8907 - val_loss: 0.3720 - val_acc: 0.8590\n",
      "Epoch 172/250\n",
      "66142/66142 [==============================] - 5s 69us/step - loss: 0.2665 - acc: 0.8900 - val_loss: 0.3787 - val_acc: 0.8552\n",
      "Epoch 173/250\n",
      "66142/66142 [==============================] - 5s 73us/step - loss: 0.2667 - acc: 0.8908 - val_loss: 0.3813 - val_acc: 0.8538\n",
      "Epoch 174/250\n",
      "66142/66142 [==============================] - 5s 69us/step - loss: 0.2636 - acc: 0.8923 - val_loss: 0.3740 - val_acc: 0.8588\n",
      "Epoch 175/250\n",
      "66142/66142 [==============================] - 5s 78us/step - loss: 0.2625 - acc: 0.8929 - val_loss: 0.3674 - val_acc: 0.8621\n",
      "Epoch 176/250\n",
      "66142/66142 [==============================] - 4s 67us/step - loss: 0.2612 - acc: 0.8932 - val_loss: 0.3754 - val_acc: 0.8572\n",
      "Epoch 177/250\n",
      "66142/66142 [==============================] - 5s 75us/step - loss: 0.2602 - acc: 0.8940 - val_loss: 0.3765 - val_acc: 0.8569\n",
      "Epoch 178/250\n",
      "66142/66142 [==============================] - 5s 72us/step - loss: 0.2595 - acc: 0.8931 - val_loss: 0.3753 - val_acc: 0.8576\n",
      "Epoch 179/250\n",
      "66142/66142 [==============================] - 5s 70us/step - loss: 0.2599 - acc: 0.8945 - val_loss: 0.3718 - val_acc: 0.8600\n",
      "Epoch 180/250\n",
      "66142/66142 [==============================] - 5s 71us/step - loss: 0.2567 - acc: 0.8953 - val_loss: 0.3778 - val_acc: 0.8562\n",
      "Epoch 181/250\n",
      "66142/66142 [==============================] - 5s 70us/step - loss: 0.2585 - acc: 0.8930 - val_loss: 0.3726 - val_acc: 0.8599\n",
      "Epoch 182/250\n",
      "66142/66142 [==============================] - 5s 70us/step - loss: 0.2565 - acc: 0.8954 - val_loss: 0.3703 - val_acc: 0.8610\n",
      "Epoch 183/250\n",
      "66142/66142 [==============================] - 4s 65us/step - loss: 0.2560 - acc: 0.8949 - val_loss: 0.3727 - val_acc: 0.8602\n",
      "Epoch 184/250\n",
      "66142/66142 [==============================] - 5s 74us/step - loss: 0.2583 - acc: 0.8953 - val_loss: 0.3714 - val_acc: 0.8607\n",
      "Epoch 185/250\n",
      "66142/66142 [==============================] - 4s 66us/step - loss: 0.2544 - acc: 0.8951 - val_loss: 0.3760 - val_acc: 0.8579\n",
      "Epoch 186/250\n",
      "66142/66142 [==============================] - 4s 67us/step - loss: 0.2549 - acc: 0.8955 - val_loss: 0.3706 - val_acc: 0.8611\n",
      "Epoch 187/250\n",
      "66142/66142 [==============================] - 5s 68us/step - loss: 0.2527 - acc: 0.8978 - val_loss: 0.3780 - val_acc: 0.8571\n",
      "Epoch 188/250\n",
      "66142/66142 [==============================] - 4s 67us/step - loss: 0.2522 - acc: 0.8982 - val_loss: 0.3701 - val_acc: 0.8616\n",
      "Epoch 189/250\n",
      "66142/66142 [==============================] - 4s 68us/step - loss: 0.2519 - acc: 0.8975 - val_loss: 0.3726 - val_acc: 0.8609\n",
      "Epoch 190/250\n",
      "66142/66142 [==============================] - 5s 72us/step - loss: 0.2506 - acc: 0.8974 - val_loss: 0.3748 - val_acc: 0.8595\n",
      "Epoch 191/250\n",
      "66142/66142 [==============================] - 5s 70us/step - loss: 0.2494 - acc: 0.8979 - val_loss: 0.3741 - val_acc: 0.8592\n",
      "Epoch 192/250\n",
      "66142/66142 [==============================] - 4s 65us/step - loss: 0.2495 - acc: 0.8987 - val_loss: 0.3771 - val_acc: 0.8593\n",
      "Epoch 193/250\n",
      "66142/66142 [==============================] - 5s 69us/step - loss: 0.2497 - acc: 0.8980 - val_loss: 0.3704 - val_acc: 0.8615\n",
      "Epoch 194/250\n",
      "66142/66142 [==============================] - 5s 73us/step - loss: 0.2476 - acc: 0.8993 - val_loss: 0.3744 - val_acc: 0.8601\n",
      "Epoch 195/250\n",
      "66142/66142 [==============================] - 4s 66us/step - loss: 0.2482 - acc: 0.8981 - val_loss: 0.3653 - val_acc: 0.8654\n",
      "Epoch 196/250\n",
      "66142/66142 [==============================] - 5s 71us/step - loss: 0.2478 - acc: 0.8988 - val_loss: 0.3791 - val_acc: 0.8567\n",
      "Epoch 197/250\n",
      "66142/66142 [==============================] - 4s 67us/step - loss: 0.2474 - acc: 0.8993 - val_loss: 0.3717 - val_acc: 0.8624\n",
      "Epoch 198/250\n",
      "66142/66142 [==============================] - 4s 68us/step - loss: 0.2428 - acc: 0.9018 - val_loss: 0.3718 - val_acc: 0.8624\n",
      "Epoch 199/250\n",
      "66142/66142 [==============================] - 4s 67us/step - loss: 0.2451 - acc: 0.9003 - val_loss: 0.3687 - val_acc: 0.8639\n",
      "Epoch 200/250\n",
      "66142/66142 [==============================] - 4s 67us/step - loss: 0.2448 - acc: 0.8998 - val_loss: 0.3671 - val_acc: 0.8657\n",
      "Epoch 201/250\n",
      "66142/66142 [==============================] - 4s 67us/step - loss: 0.2435 - acc: 0.9011 - val_loss: 0.3687 - val_acc: 0.8647\n",
      "Epoch 202/250\n",
      "66142/66142 [==============================] - 4s 68us/step - loss: 0.2412 - acc: 0.9022 - val_loss: 0.3737 - val_acc: 0.8606\n",
      "Epoch 203/250\n",
      "66142/66142 [==============================] - 4s 67us/step - loss: 0.2414 - acc: 0.9020 - val_loss: 0.3746 - val_acc: 0.8614\n",
      "Epoch 204/250\n",
      "66142/66142 [==============================] - 5s 74us/step - loss: 0.2413 - acc: 0.9021 - val_loss: 0.3685 - val_acc: 0.8645\n",
      "Epoch 205/250\n",
      "66142/66142 [==============================] - 5s 72us/step - loss: 0.2401 - acc: 0.9036 - val_loss: 0.3708 - val_acc: 0.8629\n",
      "Epoch 206/250\n",
      "66142/66142 [==============================] - 4s 66us/step - loss: 0.2387 - acc: 0.9036 - val_loss: 0.3706 - val_acc: 0.8637\n",
      "Epoch 207/250\n",
      "66142/66142 [==============================] - 4s 64us/step - loss: 0.2402 - acc: 0.9018 - val_loss: 0.3719 - val_acc: 0.8626\n",
      "Epoch 208/250\n",
      "66142/66142 [==============================] - 5s 73us/step - loss: 0.2389 - acc: 0.9030 - val_loss: 0.3735 - val_acc: 0.8605\n",
      "Epoch 209/250\n",
      "66142/66142 [==============================] - 5s 69us/step - loss: 0.2410 - acc: 0.9018 - val_loss: 0.3709 - val_acc: 0.8641\n",
      "Epoch 210/250\n",
      "66142/66142 [==============================] - 4s 67us/step - loss: 0.2383 - acc: 0.9041 - val_loss: 0.3727 - val_acc: 0.8623\n",
      "Epoch 211/250\n",
      "66142/66142 [==============================] - 4s 66us/step - loss: 0.2358 - acc: 0.9051 - val_loss: 0.3698 - val_acc: 0.8652\n",
      "Epoch 212/250\n",
      "66142/66142 [==============================] - 5s 78us/step - loss: 0.2342 - acc: 0.9050 - val_loss: 0.3671 - val_acc: 0.8664\n",
      "Epoch 213/250\n",
      "66142/66142 [==============================] - 5s 70us/step - loss: 0.2345 - acc: 0.9051 - val_loss: 0.3705 - val_acc: 0.8639\n",
      "Epoch 214/250\n",
      "66142/66142 [==============================] - 5s 71us/step - loss: 0.2383 - acc: 0.9026 - val_loss: 0.3698 - val_acc: 0.8654\n",
      "Epoch 215/250\n",
      "66142/66142 [==============================] - 5s 74us/step - loss: 0.2352 - acc: 0.9041 - val_loss: 0.3728 - val_acc: 0.8634\n",
      "Epoch 216/250\n",
      "66142/66142 [==============================] - 5s 76us/step - loss: 0.2356 - acc: 0.9035 - val_loss: 0.3726 - val_acc: 0.8637\n",
      "Epoch 217/250\n",
      "66142/66142 [==============================] - 4s 66us/step - loss: 0.2335 - acc: 0.9058 - val_loss: 0.3675 - val_acc: 0.8664\n",
      "Epoch 218/250\n",
      "66142/66142 [==============================] - 4s 67us/step - loss: 0.2343 - acc: 0.9056 - val_loss: 0.3658 - val_acc: 0.8673\n",
      "Epoch 219/250\n",
      "66142/66142 [==============================] - 4s 67us/step - loss: 0.2291 - acc: 0.9078 - val_loss: 0.3734 - val_acc: 0.8612\n",
      "Epoch 220/250\n",
      "66142/66142 [==============================] - 5s 69us/step - loss: 0.2312 - acc: 0.9055 - val_loss: 0.3734 - val_acc: 0.8624\n",
      "Epoch 221/250\n",
      "66142/66142 [==============================] - 5s 69us/step - loss: 0.2313 - acc: 0.9061 - val_loss: 0.3666 - val_acc: 0.8663\n",
      "Epoch 222/250\n",
      "66142/66142 [==============================] - 4s 67us/step - loss: 0.2286 - acc: 0.9075 - val_loss: 0.3658 - val_acc: 0.8675\n",
      "Epoch 223/250\n",
      "66142/66142 [==============================] - 4s 68us/step - loss: 0.2310 - acc: 0.9052 - val_loss: 0.3689 - val_acc: 0.8650\n",
      "Epoch 224/250\n",
      "66142/66142 [==============================] - 4s 65us/step - loss: 0.2293 - acc: 0.9070 - val_loss: 0.3738 - val_acc: 0.8626\n",
      "Epoch 225/250\n",
      "66142/66142 [==============================] - 5s 70us/step - loss: 0.2292 - acc: 0.9076 - val_loss: 0.3702 - val_acc: 0.8648\n",
      "Epoch 226/250\n",
      "66142/66142 [==============================] - 5s 75us/step - loss: 0.2285 - acc: 0.9075 - val_loss: 0.3705 - val_acc: 0.8648\n",
      "Epoch 227/250\n",
      "66142/66142 [==============================] - 5s 72us/step - loss: 0.2271 - acc: 0.9078 - val_loss: 0.3700 - val_acc: 0.8658\n",
      "Epoch 228/250\n",
      "66142/66142 [==============================] - 4s 65us/step - loss: 0.2285 - acc: 0.9076 - val_loss: 0.3651 - val_acc: 0.8685\n",
      "Epoch 229/250\n",
      "66142/66142 [==============================] - 5s 69us/step - loss: 0.2277 - acc: 0.9076 - val_loss: 0.3667 - val_acc: 0.8677\n",
      "Epoch 230/250\n",
      "66142/66142 [==============================] - 5s 68us/step - loss: 0.2276 - acc: 0.9079 - val_loss: 0.3645 - val_acc: 0.8691\n",
      "Epoch 231/250\n",
      "66142/66142 [==============================] - 4s 62us/step - loss: 0.2258 - acc: 0.9088 - val_loss: 0.3720 - val_acc: 0.8642\n",
      "Epoch 232/250\n",
      "66142/66142 [==============================] - 4s 65us/step - loss: 0.2236 - acc: 0.9113 - val_loss: 0.3677 - val_acc: 0.8674\n",
      "Epoch 233/250\n",
      "66142/66142 [==============================] - 5s 71us/step - loss: 0.2242 - acc: 0.9089 - val_loss: 0.3691 - val_acc: 0.8662\n",
      "Epoch 234/250\n",
      "66142/66142 [==============================] - 5s 70us/step - loss: 0.2237 - acc: 0.9100 - val_loss: 0.3678 - val_acc: 0.8675\n",
      "Epoch 235/250\n",
      "66142/66142 [==============================] - 4s 67us/step - loss: 0.2237 - acc: 0.9093 - val_loss: 0.3659 - val_acc: 0.8693\n",
      "Epoch 236/250\n",
      "66142/66142 [==============================] - 5s 68us/step - loss: 0.2237 - acc: 0.9095 - val_loss: 0.3682 - val_acc: 0.8668\n",
      "Epoch 237/250\n",
      "66142/66142 [==============================] - 5s 69us/step - loss: 0.2200 - acc: 0.9105 - val_loss: 0.3709 - val_acc: 0.8661\n",
      "Epoch 238/250\n",
      "66142/66142 [==============================] - 5s 71us/step - loss: 0.2215 - acc: 0.9105 - val_loss: 0.3705 - val_acc: 0.8652\n",
      "Epoch 239/250\n",
      "66142/66142 [==============================] - 5s 72us/step - loss: 0.2214 - acc: 0.9104 - val_loss: 0.3705 - val_acc: 0.8656\n",
      "Epoch 240/250\n",
      "66142/66142 [==============================] - 5s 69us/step - loss: 0.2206 - acc: 0.9109 - val_loss: 0.3674 - val_acc: 0.8676\n",
      "Epoch 241/250\n",
      "66142/66142 [==============================] - 4s 67us/step - loss: 0.2201 - acc: 0.9116 - val_loss: 0.3735 - val_acc: 0.8639\n",
      "Epoch 242/250\n",
      "66142/66142 [==============================] - 4s 67us/step - loss: 0.2190 - acc: 0.9110 - val_loss: 0.3692 - val_acc: 0.8663\n",
      "Epoch 243/250\n",
      "66142/66142 [==============================] - 4s 66us/step - loss: 0.2182 - acc: 0.9120 - val_loss: 0.3687 - val_acc: 0.8669\n",
      "Epoch 244/250\n",
      "66142/66142 [==============================] - 4s 67us/step - loss: 0.2191 - acc: 0.9109 - val_loss: 0.3676 - val_acc: 0.8683\n",
      "Epoch 245/250\n",
      "66142/66142 [==============================] - 4s 64us/step - loss: 0.2170 - acc: 0.9121 - val_loss: 0.3713 - val_acc: 0.8660\n",
      "Epoch 246/250\n",
      "66142/66142 [==============================] - 4s 66us/step - loss: 0.2191 - acc: 0.9106 - val_loss: 0.3694 - val_acc: 0.8666\n",
      "Epoch 247/250\n",
      "66142/66142 [==============================] - 5s 68us/step - loss: 0.2174 - acc: 0.9117 - val_loss: 0.3653 - val_acc: 0.8691\n",
      "Epoch 248/250\n",
      "66142/66142 [==============================] - 4s 65us/step - loss: 0.2168 - acc: 0.9119 - val_loss: 0.3710 - val_acc: 0.8655\n",
      "Epoch 249/250\n",
      "66142/66142 [==============================] - 4s 66us/step - loss: 0.2179 - acc: 0.9123 - val_loss: 0.3698 - val_acc: 0.8661\n",
      "Epoch 250/250\n",
      "66142/66142 [==============================] - 4s 66us/step - loss: 0.2116 - acc: 0.9140 - val_loss: 0.3675 - val_acc: 0.8680\n"
     ]
    }
   ],
   "source": [
    "\n",
    "from keras.optimizers import SGD,RMSprop, Adagrad, Adadelta, Adam, Adamax, Nadam\n",
    "model=Sequential()\n",
    "model.add(Dense(128, activation='relu', kernel_initializer=keras.initializers.he_normal(seed=seed), bias_initializer='zeros',input_shape=n_cols ))\n",
    "model.add(Dropout(0.1))\n",
    "model.add(Dense(128, activation='relu', kernel_initializer=keras.initializers.he_normal(seed=seed), bias_initializer='zeros'))\n",
    "model.add(Dropout(0.1))\n",
    "model.add(Dense(1, activation='sigmoid'))\n",
    "model.compile(optimizer=SGD(lr=0.001), loss='binary_crossentropy', metrics=['accuracy'])\n",
    "history = model.fit(X_train, y_train,validation_data=[X_test, y_test], batch_size=32,epochs=250,verbose=1)"
   ]
  },
  {
   "cell_type": "code",
   "execution_count": 122,
   "metadata": {
    "colab": {},
    "colab_type": "code",
    "id": "yYD40gzWYSNd"
   },
   "outputs": [
    {
     "data": {
      "image/png": "[encoded data removed]",
      "text/plain": [
       "<Figure size 432x288 with 1 Axes>"
      ]
     },
     "metadata": {
      "needs_background": "light"
     },
     "output_type": "display_data"
    }
   ],
   "source": [
    "import matplotlib.pyplot as plt\n",
    "\n",
    "\n",
    "plt.plot(history.history['acc'])\n",
    "plt.plot(history.history['val_acc'])\n",
    "plt.title('Model accuracy')\n",
    "plt.ylabel('Accuracy')\n",
    "plt.xlabel('Epoch')\n",
    "plt.legend(['Train', 'Test'], loc='upper left')\n",
    "plt.show()"
   ]
  },
  {
   "cell_type": "code",
   "execution_count": 123,
   "metadata": {
    "colab": {
     "base_uri": "https://localhost:8080/",
     "height": 295
    },
    "colab_type": "code",
    "id": "RPBjSoVqaKU2",
    "outputId": "cb9bb575-5697-4994-9c92-eea369b61a75"
   },
   "outputs": [
    {
     "data": {
      "image/png": "[encoded data removed]",
      "text/plain": [
       "<Figure size 432x288 with 1 Axes>"
      ]
     },
     "metadata": {
      "needs_background": "light"
     },
     "output_type": "display_data"
    }
   ],
   "source": [
    "plt.plot(history.history['loss'])\n",
    "plt.plot(history.history['val_loss'])\n",
    "plt.title('Model loss')\n",
    "plt.ylabel('Loss')\n",
    "plt.xlabel('Epoch')\n",
    "plt.legend(['Train', 'Test'], loc='upper left')\n",
    "plt.show()"
   ]
  },
  {
   "cell_type": "code",
   "execution_count": 124,
   "metadata": {},
   "outputs": [
    {
     "name": "stdout",
     "output_type": "stream",
     "text": [
      "Test loss: 0.3674989054484322\n",
      "Test accuracy: 0.8679649464459591\n"
     ]
    }
   ],
   "source": [
    "score = model.evaluate(X_test, y_test, verbose=0)\n",
    "print('Test loss:', score[0])\n",
    "print('Test accuracy:', score[1])"
   ]
  },
  {
   "cell_type": "code",
   "execution_count": 125,
   "metadata": {},
   "outputs": [
    {
     "data": {
      "text/plain": [
       "array([[0],\n",
       "       [0],\n",
       "       [0],\n",
       "       ...,\n",
       "       [0],\n",
       "       [0],\n",
       "       [0]])"
      ]
     },
     "execution_count": 125,
     "metadata": {},
     "output_type": "execute_result"
    }
   ],
   "source": [
    "predictions=model.predict_classes(X_test)\n",
    "predictions"
   ]
  },
  {
   "cell_type": "code",
   "execution_count": 126,
   "metadata": {},
   "outputs": [
    {
     "name": "stdout",
     "output_type": "stream",
     "text": [
      "\n",
      "Clasification report:\n",
      "               precision    recall  f1-score   support\n",
      "\n",
      "           0       0.94      0.91      0.93     14166\n",
      "           1       0.26      0.34      0.29      1239\n",
      "\n",
      "    accuracy                           0.87     15405\n",
      "   macro avg       0.60      0.63      0.61     15405\n",
      "weighted avg       0.89      0.87      0.88     15405\n",
      "\n"
     ]
    }
   ],
   "source": [
    "from sklearn.metrics import classification_report\n",
    "target_names = [\"0\",\"1\"]\n",
    "print ('\\nClasification report:\\n', classification_report(y_test, predictions, target_names=target_names))"
   ]
  },
  {
   "cell_type": "code",
   "execution_count": 127,
   "metadata": {},
   "outputs": [
    {
     "name": "stdout",
     "output_type": "stream",
     "text": [
      "\n",
      "Confusion matrix:\n",
      " [[12954  1212]\n",
      " [  822   417]]\n"
     ]
    }
   ],
   "source": [
    "from sklearn.metrics import confusion_matrix\n",
    "print ('\\nConfusion matrix:\\n', confusion_matrix(y_test,predictions))"
   ]
  },
  {
   "cell_type": "code",
   "execution_count": 128,
   "metadata": {},
   "outputs": [
    {
     "data": {
      "text/plain": [
       "0.625502387977352"
      ]
     },
     "execution_count": 128,
     "metadata": {},
     "output_type": "execute_result"
    }
   ],
   "source": [
    "from sklearn.metrics import roc_auc_score\n",
    "auc_score=roc_auc_score(y_test,predictions)\n",
    "auc_score"
   ]
  },
  {
   "cell_type": "markdown",
   "metadata": {},
   "source": [
    "The new model is compiled and fitted. Validation accuracy of the model is 0.8680. Confusion matrix, auc score, and classification report of the model is printed. Auc score of the model is 0.626. Precision and recall of the model are 0.26 and 0.34 for ones, 0.94 and 0.91 for zeros, respectively. Model accuracy and model loss graphs are drawn. One can see that dropouts eliminated the overfitting problem. "
   ]
  },
  {
   "cell_type": "markdown",
   "metadata": {},
   "source": [
    "From precision and recall of ones, it can be said that both models are performing bad in predicting ones. This is expected because of the imbalance of the data. Even though the imbalance of the train data is eliminated by oversampling, the imbalance of the test data is still exists.\n",
    "\n",
    "From precision and recall of zeros, it can be said that both models are performing well in predicting zeros. The difference in precisions and recalls between ones and zeros can also be explained by the imbalance of the data.\n",
    "\n",
    "Since the data is imbalanced, it is more reasonable to use auc score as metric instead of validation accuracy because even though a high accuracy can be reached, the precisions and recalls may not be high. For this reason, the model with the higher auc score is chosen as the final model which is the old model that talos gives. "
   ]
  },
  {
   "cell_type": "code",
   "execution_count": null,
   "metadata": {},
   "outputs": [],
   "source": []
  }
 ],
 "metadata": {
  "accelerator": "GPU",
  "colab": {
   "collapsed_sections": [],
   "name": "Talos Sigmoid Mini-Challenge1.ipynb",
   "provenance": [],
   "version": "0.3.2"
  },
  "kernelspec": {
   "display_name": "Python 3",
   "language": "python",
   "name": "python3"
  },
  "language_info": {
   "codemirror_mode": {
    "name": "ipython",
    "version": 3
   },
   "file_extension": ".py",
   "mimetype": "text/x-python",
   "name": "python",
   "nbconvert_exporter": "python",
   "pygments_lexer": "ipython3",
   "version": "3.7.1"
  }
 },
 "nbformat": 4,
 "nbformat_minor": 2
}
